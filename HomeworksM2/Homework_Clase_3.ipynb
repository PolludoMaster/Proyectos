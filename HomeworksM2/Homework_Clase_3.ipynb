{
 "cells": [
  {
   "cell_type": "code",
   "execution_count": 6,
   "metadata": {},
   "outputs": [
    {
     "name": "stdout",
     "output_type": "stream",
     "text": [
      "0.6666666666666667\n",
      "0.8\n"
     ]
    }
   ],
   "source": [
    " #Suponga dos eventos, A y B, y que P(A) = 0.50, P(B) = 0.60 y P(A ∩ B) = 0.40.<br>\n",
    " #a. Halle P(A | B).\n",
    " #b. Halle P(B | A).\n",
    " #c. ¿A y B son independientes? ¿Por qué sí o por qué no?\n",
    "\n",
    "# P(A) = 0.50\n",
    "# P(A) = 0.60\n",
    "# P(A ∩ B) = 0.40\n",
    "\n",
    "# P(A/B) = P(A ∩ B)/P(B)\n",
    "# print(P(A/B))\n",
    "\n",
    "# P(A/B) = P(A ∩ B)/P(A)\n",
    "# print(P(A/B))\n",
    "\n",
    "# P(A/B) = P(A)\n",
    "# P(A/B) = 0.66 != 0.50 = P(A) -> No son independientes\n",
    "# P(B/A) =0.8 != 0.60 = P(B) -> No son independientes\n",
    "\n",
    "#Si son independientes se debe cumplir P(A/B) = P(A) "
   ]
  },
  {
   "cell_type": "code",
   "execution_count": null,
   "metadata": {},
   "outputs": [],
   "source": [
    "#2. Suponga dos eventos, A y B, que son mutuamente excluyentes. Admita, además, \n",
    "# que P(A) = 0.30 y P(B) = 0.40. \n",
    "#- a. Obtenga P(A ∩ B). ¿Existe intersección entre los dos conjuntos?.\n",
    "#- b. Calcule P(A | B).\n",
    "#- c. Un estudiante de estadística argumenta que los conceptos de eventos \n",
    "# mutuamente excluyentes y eventos independientes son en realidad lo mismo y \n",
    "# que si los eventos son mutuamente excluyentes deben ser también independientes. ¿Está usted de acuerdo? \n",
    "#Use la información sobre las probabilidades para justificar su respuesta.\n",
    "\n",
    "# a) P(P∩B) = 0. No interseccion. No pueden ocurrir de manera conjunta\n",
    "# b) P(A/B) = P(A)\n",
    "# c) No hay que confundir la nocion de eventos mutuamente excluyentes con la de eventos independientes.\n",
    "# Dos eventos cuyas probabilidades conjuntas no son cero, no pueden ser mutuamentes excluyentes e indepndientes.\n",
    "# Si uno de los eventos mutuamentes excluyentes ocurre, el otro evento no puede ocurrir; por tanto,\n",
    "# la probabilidad de que ocurra el otro evento se reduce a cero "
   ]
  },
  {
   "cell_type": "code",
   "execution_count": null,
   "metadata": {},
   "outputs": [],
   "source": [
    "#3. Si en la concesionaria se seleccionan dos ventas con reposición \n",
    "# (Los sucesos son independientes.. Hallar la probabilidad de que las ventas sean:<br>\n",
    "# \n",
    "#  - a. La primera de un comprador de “menos de 40 años” y la segunda de \n",
    "#       uno de \"entre 40 y 50 años\". \n",
    "# # P(<40 años & entre 40y50) = P(<40)*P(entre 40y50) = (30/80)*(34/80) = 51/320\n",
    "#  \n",
    "#  - b. las dos sean de autos \"nacionales\".\n",
    "# # P(N & N) = P(N)*P(N) = (50/80)*(50/80) = 0.390625 \n"
   ]
  },
  {
   "cell_type": "code",
   "execution_count": null,
   "metadata": {},
   "outputs": [],
   "source": [
    "#4. Si la selección de las dos ventas se realiza sin reposición. \n",
    "# Hallar la probabilidad de que las ventas sean:<br>\n",
    "#  Los sucesos son condicionales.\n",
    "#\n",
    "# - a. la primera de un comprador de “menos de 40 años” y \n",
    "#       la segunda de uno de \"entre 40 y 50 años\".\n",
    "#   P(<40 años & entre 40y50) = P(<40)*P(entre 40y50) = (30/80)*(34/79) =(51/316)\n",
    "# - b. las dos sean de autos \"nacionales\".\n",
    "#   P(N & N) = P(N)*P(N) = (50/80)*(49/79) = 0.387658228 \n",
    "\n",
    "\n",
    "\n",
    "\n"
   ]
  },
  {
   "cell_type": "code",
   "execution_count": null,
   "metadata": {},
   "outputs": [],
   "source": [
    "#5. Si la selección de las dos ventas se realiza sin reposición. \n",
    "# Hallar la probabilidad de que las ventas sean:<br>\n",
    "#  Los sucesos son condicionales.\n",
    "#  \n",
    "# - a. De un comprador de “menos de 40 años” y de uno de \"entre 40 y 50 años\". \n",
    "# Sin importar el orden.\n",
    "\n",
    "# P(<40 años & entre 40y50) = [p(<40)*p(ENTRE 40Y50 / <40)] + \n",
    "#                               [p(ENTRE 40 y 50)*P(<40 / entre 40y50)]\n",
    "#                           = [(30/80)*(34/79)]+[(34/80)*(30/79)] = 51/158\n",
    "#                       "
   ]
  },
  {
   "cell_type": "code",
   "execution_count": null,
   "metadata": {},
   "outputs": [],
   "source": [
    "# 6. Debido al aumento de los costos de los seguros, \n",
    "# en un país 43 millones de personas, hay personas que no cuentan con \n",
    "# un seguro médico. En la tabla siguiente se muestran datos muestrales \n",
    "# representativos de la cantidad de personas que cuentan con seguro médico:\n",
    "\n",
    "# a. Con estos datos elabore una tabla de probabilidad conjunta y úsela para responder las preguntas restantes.\n",
    "#- b. ¿Qué indican las probabilidades marginales acerca de la edad de la población?\n",
    "# - \n",
    "#- c. ¿Cuál es la probabilidad de que una persona tomada en forma aleatoria no tenga seguro médico?\n",
    "#  P(no tenga seguro medico) = 0.15\n",
    "#- d. Si la persona tiene entre 18 y 34 años, ¿cuál es la probabilidad de que no tenga seguro médico?\n",
    "#   P(NO / 18 a 34) = 0.085/0.46 = 0.1848\n",
    "#- e. Si la persona tiene 35 años o más ¿cuál es la probabilidad de que no tenga seguro médico?\n",
    "#   P(no / 35 o mas) = 0.065 / 0.54 = 0.1204\n",
    "#- f. Si la persona no tiene seguro médico, ¿cuál es la probabilidad de que tenga entre 18 y 34 años?\n",
    "#  P(18 y 34 / no tiene seguro) = 0.085/0.15 = 0.5677"
   ]
  }
 ],
 "metadata": {
  "kernelspec": {
   "display_name": "Python 3.10.7 64-bit",
   "language": "python",
   "name": "python3"
  },
  "language_info": {
   "codemirror_mode": {
    "name": "ipython",
    "version": 3
   },
   "file_extension": ".py",
   "mimetype": "text/x-python",
   "name": "python",
   "nbconvert_exporter": "python",
   "pygments_lexer": "ipython3",
   "version": "3.10.7"
  },
  "orig_nbformat": 4,
  "vscode": {
   "interpreter": {
    "hash": "0d8f62de8d159179b6c7667a4d5d4ef6210275a6b2f6b808206464195fd50fc9"
   }
  }
 },
 "nbformat": 4,
 "nbformat_minor": 2
}
