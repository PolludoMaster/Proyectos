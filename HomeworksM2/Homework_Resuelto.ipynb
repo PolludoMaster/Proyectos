{
 "cells": [
  {
   "cell_type": "markdown",
   "metadata": {},
   "source": [
    "Binomina : Verdadero o Falso<br>\n",
    "Poisson : Probabilidades muy bajas y con intervalos de tiempo."
   ]
  },
  {
   "cell_type": "code",
   "execution_count": 1,
   "metadata": {},
   "outputs": [],
   "source": [
    "from math import e, factorial\n",
    "from statistics import NormalDist"
   ]
  },
  {
   "cell_type": "code",
   "execution_count": 2,
   "metadata": {},
   "outputs": [],
   "source": [
    "#DISTRIBUCIÓN BINOMIAL\n",
    "def funcion_binomial(k,n,p):\n",
    "  num_exitos = factorial(n) \n",
    "  num_eventos = factorial (k) * factorial(n-k) \n",
    "  exitos_fracaso = pow(p,k) * pow(1-p,(n-k)) \n",
    "\n",
    "  binomial = (num_exitos / num_eventos) * exitos_fracaso\n",
    "\n",
    "  return binomial"
   ]
  },
  {
   "cell_type": "code",
   "execution_count": 3,
   "metadata": {},
   "outputs": [],
   "source": [
    "#DISTRIBUCIÓN DE POISSON\n",
    "def probabilidad_poisson(lamba_np,x):\n",
    "     probabilidad = (pow(e,-lamba_np) * pow(lamba_np,x))/factorial(x)\n",
    "     return probabilidad"
   ]
  },
  {
   "cell_type": "code",
   "execution_count": 4,
   "metadata": {},
   "outputs": [],
   "source": [
    "#DISTRIBUCIÓN HIPERGEOMÉTRICA\n",
    "from scipy import stats\n",
    "#M es N, N es n, n es k, k es x\n",
    "\n",
    "M, n, k, N = [12, 5, 1, 3]\n",
    "# hypergeom.cdf(x, M, n, N)\n",
    "hypergeo = stats.hypergeom(M,n,N)\n",
    "\n",
    "def probabilidad_hipergeometrica(N,X,n,x):\n",
    "  Xx = factorial(X)/(factorial(x)*factorial(X-x))\n",
    "  NX_nx= factorial(N-X)/(factorial(n-x)*factorial((N-X)-(n-x)))\n",
    "  Nn = factorial(N)/(factorial(n)*factorial(N-n))\n",
    "  hipergeometrica = (Xx * NX_nx)/Nn\n",
    "\n",
    "  return hipergeometrica"
   ]
  },
  {
   "cell_type": "code",
   "execution_count": 5,
   "metadata": {},
   "outputs": [
    {
     "data": {
      "text/plain": [
       "0.04545454545454546"
      ]
     },
     "execution_count": 5,
     "metadata": {},
     "output_type": "execute_result"
    }
   ],
   "source": [
    "hypergeo.pmf(N)"
   ]
  },
  {
   "cell_type": "markdown",
   "metadata": {},
   "source": [
    "1. Considera el experimento que consiste en un empleado que arma un producto.\n",
    "  - a. Defina la variable aleatoria que represente el tiempo en minutos requerido para armar el producto.<br>\n",
    "  - b. ¿Qué valores toma la variable aleatoria?<br>\n",
    "  - c. ¿Es una variable aleatoria discreta o continua?<br>"
   ]
  },
  {
   "cell_type": "code",
   "execution_count": 6,
   "metadata": {},
   "outputs": [],
   "source": [
    "#a. x = tiempo en minutos requerido para armar el producto\n",
    "#b. Cualquier valor positivo: x > 0 == x >= 0  [(0,infinito)\n",
    "#c. Continua"
   ]
  },
  {
   "cell_type": "markdown",
   "metadata": {},
   "source": [
    "2. Considera el experimento que consiste en lanzar una moneda dos veces.\n",
    "  - a. Enumere los resultados experimentales.\n",
    "  - b. Defina una variable aleatoria que represente el número de caras en los dos lanzamientos.\n",
    "  - c. Dé el valor que la variable aleatoria tomará en cada uno de los resultados experimentales.\n",
    "  - d. ¿Es una variable aleatoria discreta o continua?"
   ]
  },
  {
   "cell_type": "code",
   "execution_count": 7,
   "metadata": {},
   "outputs": [],
   "source": [
    "H = \"cara\"\n",
    "T = \"cruz\"\n",
    "# 2**n = 2**2 = 4\n",
    "resultados = {  1:[H, H],\n",
    "                2:[H, T],\n",
    "                3:[T,H],\n",
    "                4:[T,T]}\n",
    "#b. x = cantidad de caras en dos lanzamientos => P(x=0)\n",
    "#c.\n",
    "resultados = {  1:[[H, H], 2],#P(x=2) #si mi x es cantidad de caras de caras en dos lanzamientos\n",
    "                2:[[H, T], 1],#P(x=1) #tengo que contar las caras que salieron en los dos lanzamientos\n",
    "                3:[[T, H], 1],#P(x=1)\n",
    "                4:[[T, T], 0]}#P(x=0)\n",
    "#d. Discreta; puede tomar tres valores: 0, 1 y 2\n",
    "# DominioP = {0,1,2}\n",
    "# ImP = [0,1]"
   ]
  },
  {
   "cell_type": "markdown",
   "metadata": {},
   "source": [
    "3. Considera las decisiones de compra de los próximos tres clientes que lleguen a la tienda de ropa Martin Clothing Store. De acuerdo con la experiencia, el gerente de la tienda estima que la probabilidad de que un cliente realice una compra es 0.30. \n",
    "  - a. Describa si cumple con las reglas para clasificarlo como un experimiento binomial.\n",
    "  - b. ¿Cuál es la probabilidad de que dos de los próximos tres clientes realicen una compra?\n",
    "  - c. ¿Cuál es la probabilidad de que cuatro de los próximos diez clientes realicen una compra?"
   ]
  },
  {
   "cell_type": "code",
   "execution_count": 8,
   "metadata": {},
   "outputs": [
    {
     "name": "stdout",
     "output_type": "stream",
     "text": [
      "0.189\n",
      "0.20012094899999994\n"
     ]
    }
   ],
   "source": [
    "#Pregunta 3\n",
    "#a. \n",
    "# 1. Es posible describir el experimento como una serie de tres ensayos idénticos, \n",
    "# un ensayo por cada uno de los tres clientes que llegan a la tienda.\n",
    "# . Cada ensayo tiene dos posibles resultados: el cliente hace una compra (éxito) o el cliente \n",
    "# no hace ninguna compra (fracaso).\n",
    "# 3. La probabilidad de que el cliente haga una compra (0.30) o de que no haga una \n",
    "# compra (0.70) se supone que es la misma para todos los clientes.\n",
    "# 4. La decisión de comprar de cada cliente es independiente de la decisión de \n",
    "# comprar de los otros clientes.\n",
    "\n",
    "#b.\n",
    "print(funcion_binomial(2,3,0.3))\n",
    "\n",
    "#c.\n",
    "print(funcion_binomial(4,10,0.3))\n"
   ]
  },
  {
   "cell_type": "code",
   "execution_count": 9,
   "metadata": {},
   "outputs": [
    {
     "data": {
      "text/plain": [
       "0.8"
      ]
     },
     "execution_count": 9,
     "metadata": {},
     "output_type": "execute_result"
    }
   ],
   "source": [
    "48/60"
   ]
  },
  {
   "cell_type": "markdown",
   "metadata": {},
   "source": [
    "4.  A la oficina de reservaciones de una aerolínea regional llegan 48 llamadas por hora.\n",
    "- a. Calcule la probabilidad de recibir cinco llamadas en un lapso de 5 minutos.\n",
    "- b. Estime la probabilidad de recibir exactamente 10 llamadas en un lapso de 15 minutos.\n",
    "- c. Suponga que no hay ninguna llamada en espera. Si el agente de viajes necesitará 5 minutos para la llamada que está atendiendo, ¿cuántas llamadas habrá en espera para cuando él termine? ¿Cuál es la probabilidad de que no haya ninguna llamada en espera?\n",
    "- d. Si en este momento no hay ninguna llamada, ¿cuál es la probabilidad de que el agente de viajes pueda tomar 3 minutos de descanso sin ser interrumpido por una llamada?"
   ]
  },
  {
   "cell_type": "code",
   "execution_count": 26,
   "metadata": {},
   "outputs": [
    {
     "name": "stdout",
     "output_type": "stream",
     "text": [
      "0.15629345185053173\n",
      "0.1048372558836594\n",
      "0.3472294175541719\n",
      "0.018315638888734186\n",
      "0.09071795328941253\n",
      "La probabilidad de que pueda descansar (no entren llamadas) es de 9.07 %\n"
     ]
    }
   ],
   "source": [
    "#4\n",
    "# 48 llamadas por hora, por hora lambda es 48\n",
    "#si yo te pregunto por minuto: 48/60 = 0.8\n",
    "#si te pregunto cada 5 minutos: 0.8*5 = 4\n",
    "#lambda**-1: 1/48 = 0,0208\n",
    "print(probabilidad_poisson(4, 5)) #a primer argumento 48 llamadas en 60 min,  5*48/60\n",
    "#print(probabilidad_poisson(48,60))\n",
    "print(probabilidad_poisson(12, 10))#b 15*48/60\n",
    "llamadas = list(range(0,11))\n",
    "sumatorio = 0\n",
    "for i in llamadas:\n",
    "    sumatorio += probabilidad_poisson(12,i)\n",
    "print(sumatorio)\n",
    "#otra forma es usando la función de distribución 1 - F(x<= 10) es la probabilidad de \n",
    "#que sean más de 10 llamadas\n",
    "\n",
    "# c Tendrían que haber entrado 4 llamadas (1 cada 48 segundos)\n",
    "print(probabilidad_poisson(4, 0))\n",
    "print(probabilidad_poisson(2.4, 0))# d 48/60= 0.8 => 0.8 * 3 = 2.4\n",
    "print(f'La probabilidad de que pueda descansar (no entren llamadas) es de {round(probabilidad_poisson(2.4, 0) * 100,2)} %')"
   ]
  },
  {
   "cell_type": "code",
   "execution_count": 11,
   "metadata": {},
   "outputs": [
    {
     "data": {
      "text/plain": [
       "0.0"
      ]
     },
     "execution_count": 11,
     "metadata": {},
     "output_type": "execute_result"
    }
   ],
   "source": [
    "round(probabilidad_poisson(48,0),0)"
   ]
  },
  {
   "cell_type": "code",
   "execution_count": 1,
   "metadata": {},
   "outputs": [
    {
     "data": {
      "text/plain": [
       "0.16666666666666666"
      ]
     },
     "execution_count": 1,
     "metadata": {},
     "output_type": "execute_result"
    }
   ],
   "source": [
    "6/36"
   ]
  },
  {
   "cell_type": "code",
   "execution_count": 12,
   "metadata": {},
   "outputs": [
    {
     "name": "stdout",
     "output_type": "stream",
     "text": [
      "0.15629345185053173\n",
      "0.1048372558836594\n",
      "4.0\n",
      "0.018315638888734186\n",
      "0.09071795328941248\n"
     ]
    }
   ],
   "source": [
    "#a.\n",
    "print(probabilidad_poisson(((48/60)*5),5))\n",
    "\n",
    "#b.\n",
    "print(probabilidad_poisson(((48/60)*15),10))\n",
    "\n",
    "#c.\n",
    "print(((48/60)*5))\n",
    "print(probabilidad_poisson(((48/60)*5),0))\n",
    "\n",
    "#b.\n",
    "print(probabilidad_poisson(((48/60)*3),0))"
   ]
  },
  {
   "cell_type": "markdown",
   "metadata": {},
   "source": [
    "5. En una encuesta realizada por Gallup Organization, se les preguntó a los interrogados, “Cuál es el deporte que prefieres ver”. Futbol y básquetbol ocuparon el primero y segundo lugar de preferencia (www.gallup.com, 3 de enero de 2004). Si en un grupo de 10 individuos, siete prefieren futbol y tres prefieren básquetbol. Se toma una muestra aleatoria de tres de estas personas.\n",
    "- a. ¿Cuál es la probabilidad de que exactamente dos prefieren el futbol?\n",
    "- b. ¿De que la mayoría (ya sean dos o tres) prefiere el futbol?"
   ]
  },
  {
   "cell_type": "code",
   "execution_count": 13,
   "metadata": {},
   "outputs": [
    {
     "data": {
      "text/plain": [
       "0.525"
      ]
     },
     "execution_count": 13,
     "metadata": {},
     "output_type": "execute_result"
    }
   ],
   "source": [
    "#5\n",
    "#a.\n",
    "probabilidad_hipergeometrica(10,7,3,2) \n",
    "#probabilidad_hipergeometrica(10,7,3,3) "
   ]
  },
  {
   "cell_type": "code",
   "execution_count": 14,
   "metadata": {},
   "outputs": [
    {
     "name": "stdout",
     "output_type": "stream",
     "text": [
      "0.8166666666666667\n"
     ]
    }
   ],
   "source": [
    "#b.\n",
    "prob_0 = probabilidad_hipergeometrica(10,7,3,0)\n",
    "prob_1 = probabilidad_hipergeometrica(10,7,3,1)\n",
    "print(1-prob_1-prob_0)\n",
    "\n",
    "#M, n, k, N = [10, 7, 2, 3]\n",
    "# hypergeom.cdf(x, M, n, N)\n",
    "#hypergeo = stats.hypergeom(M,n,N)\n",
    "\n",
    "#1 - hypergeo.cdf(1)"
   ]
  },
  {
   "cell_type": "markdown",
   "metadata": {},
   "source": [
    "6. La probabilidad de que a un estudiante le guste este modulo es de 0.7 (en Henry somos optimistas), cual es la probabilidad de que les guste este módulo a 6 de los 10 estudiantes.<br>"
   ]
  },
  {
   "cell_type": "code",
   "execution_count": 15,
   "metadata": {},
   "outputs": [
    {
     "name": "stdout",
     "output_type": "stream",
     "text": [
      "0.20012094900000005\n",
      "0.4669488810000001\n",
      "0.6172172136000003\n",
      "0.0\n"
     ]
    }
   ],
   "source": [
    "#6.\n",
    "print(funcion_binomial(6,10,0.7))\n",
    "print(funcion_binomial(7,10,0.7)+funcion_binomial(6,10,0.7)) \n",
    "sumatorio = 0\n",
    "for i in range(0,8): sumatorio += funcion_binomial(i,10,0.7)\n",
    "print(sumatorio)\n",
    "sumatorio1 = 0\n",
    "for i in range(0,8): sumatorio1 += funcion_binomial(i,10000,0.7)\n",
    "print(sumatorio1)"
   ]
  },
  {
   "cell_type": "markdown",
   "metadata": {},
   "source": [
    "7. De todos los push a Git en un Henry Challenge, el 90% lo envía a término. Si se envían 9 ¿cuál es la probabilidad de que 7 lleguen a término?.<br>"
   ]
  },
  {
   "cell_type": "code",
   "execution_count": 16,
   "metadata": {},
   "outputs": [
    {
     "name": "stdout",
     "output_type": "stream",
     "text": [
      "0.17218688399999993\n"
     ]
    }
   ],
   "source": [
    "#7.\n",
    "print(funcion_binomial(7,9,0.9))"
   ]
  },
  {
   "cell_type": "markdown",
   "metadata": {},
   "source": [
    "8. En relación con el enunciado anterior cálcule la probabilidad de que 7 o más lleguen a término.<br>"
   ]
  },
  {
   "cell_type": "code",
   "execution_count": 17,
   "metadata": {},
   "outputs": [
    {
     "name": "stdout",
     "output_type": "stream",
     "text": [
      "0.9470278620000001\n"
     ]
    }
   ],
   "source": [
    "#8.Aplicamos la función binomial y sumamos probabilidades para 7,8 y 9 casos probables.\n",
    "print(  funcion_binomial(7,9,0.9)+\n",
    "        funcion_binomial(8,9,0.9)+\n",
    "        funcion_binomial(9,9,0.9))"
   ]
  },
  {
   "cell_type": "markdown",
   "metadata": {},
   "source": [
    "9. La cantidad de alumnos promedio que se ausentan en un día de clases en la carrera de Data Science es de 10. Calcular cual es la probabilidad de que se ausenten 7 alumnos.<br>"
   ]
  },
  {
   "cell_type": "code",
   "execution_count": 18,
   "metadata": {},
   "outputs": [
    {
     "name": "stdout",
     "output_type": "stream",
     "text": [
      "0.09007922571921602\n",
      "0.5830397501929857\n"
     ]
    }
   ],
   "source": [
    "#9. Aplicamos la función poisson.\n",
    "print(probabilidad_poisson(10,7))\n",
    "sumatorio = 0\n",
    "for i in range(0,11): sumatorio += probabilidad_poisson(10,i)\n",
    "print(sumatorio)"
   ]
  },
  {
   "cell_type": "markdown",
   "metadata": {},
   "source": [
    "10. Cuando inicia una clase, los estudiantes ingresan a un ritmo de 5 estudiantes por minuto. Calcular cual es la probabilidad de que ingresen 7 estudiantes por minuto.<br>"
   ]
  },
  {
   "cell_type": "code",
   "execution_count": 19,
   "metadata": {},
   "outputs": [
    {
     "name": "stdout",
     "output_type": "stream",
     "text": [
      "0.10444486295705402\n"
     ]
    }
   ],
   "source": [
    "#10. Aplicamos la función poisson.\n",
    "print(probabilidad_poisson(5,7))"
   ]
  },
  {
   "cell_type": "markdown",
   "metadata": {},
   "source": [
    "## Ejercicios complementarios <br>\n",
    "\n",
    "11. Cada 3 días ingresan 10 estudiantes nuevos al Prep Course de Henry, calcule la probabilidad de que ingresen 15 nuevos estudiantes en un período de 6 días.<br>"
   ]
  },
  {
   "cell_type": "code",
   "execution_count": 20,
   "metadata": {},
   "outputs": [
    {
     "name": "stdout",
     "output_type": "stream",
     "text": [
      "0.0516488535317584\n"
     ]
    }
   ],
   "source": [
    "#11. Aplicamos la función poisson. \n",
    "# El intervalo dado es de 3 días, para llevarlo a un intervalo de 6 días aplicamos regla de 3 \n",
    "# y nos da 20 alumnos.\n",
    "# 10 - 3 \n",
    "#  x - 6\n",
    "print(probabilidad_poisson(20,15))"
   ]
  },
  {
   "cell_type": "markdown",
   "metadata": {},
   "source": [
    "12. En una distribución de Poisson de lamba_np=3, cual es la probabilidad de x>=1.<br>\n",
    "Distribución Normal:<br>"
   ]
  },
  {
   "cell_type": "code",
   "execution_count": 21,
   "metadata": {},
   "outputs": [
    {
     "name": "stdout",
     "output_type": "stream",
     "text": [
      "0.950212931632136\n"
     ]
    }
   ],
   "source": [
    "#12. Aplicamos la función poisson para un p(0). \n",
    "# La condición de cierre siempre es 1 por lo que p(x>=1)=1-p(0).\n",
    "print(1-probabilidad_poisson(3,0))"
   ]
  },
  {
   "cell_type": "code",
   "execution_count": 22,
   "metadata": {},
   "outputs": [
    {
     "name": "stdout",
     "output_type": "stream",
     "text": [
      "0.9983663394083797\n"
     ]
    }
   ],
   "source": [
    "#Aplicacion sobre el ejercicio 6, probabilidad de que ingresen hasta 20 alumnos\n",
    "p = 0\n",
    "for i in range(1, 21):\n",
    "    p = p + probabilidad_poisson(10,i)\n",
    "print(p)"
   ]
  },
  {
   "cell_type": "code",
   "execution_count": 23,
   "metadata": {},
   "outputs": [
    {
     "name": "stdout",
     "output_type": "stream",
     "text": [
      "0.9999546000702375\n"
     ]
    }
   ],
   "source": [
    "# Probabilidad de que ingresen alumnos\n",
    "print(1-probabilidad_poisson(10,0))"
   ]
  },
  {
   "cell_type": "markdown",
   "metadata": {},
   "source": [
    "13. La calificación promedio de los estudiantes de Henry es de 78 con una desviación estandar de 25. Cual es la probabilidad de tener estudiantes con calificaciones mayores o iguales 90."
   ]
  },
  {
   "cell_type": "code",
   "execution_count": 24,
   "metadata": {},
   "outputs": [
    {
     "name": "stdout",
     "output_type": "stream",
     "text": [
      "0.48\n"
     ]
    }
   ],
   "source": [
    "#DISTRIBUCIÓN NORMAL\n",
    "#8. La finalidad es entender el concepto.\n",
    "X=90\n",
    "mu=78\n",
    "sigma=25\n",
    "z=(X-mu)/sigma\n",
    "print(z)"
   ]
  },
  {
   "cell_type": "code",
   "execution_count": 25,
   "metadata": {},
   "outputs": [
    {
     "name": "stdout",
     "output_type": "stream",
     "text": [
      "0.3156\n",
      "0.3156136965162226\n",
      "0.3156136965162226\n"
     ]
    }
   ],
   "source": [
    "p_90 = 0.3156\n",
    "print(p_90)\n",
    "#Buscamos el valor de z en la tabla y obtenemos el valor del area bajo la curva = 0.3156\n",
    "#p(x>=90) = 0.3156\n",
    "normal = stats.norm(0,1)\n",
    "print(1 - normal.cdf(0.48)) # normal.cdf(0.48) = P(z<=0.48) ==> 1 - (z<=0.48)\n",
    "normal = stats.norm(78,25)\n",
    "print(1 - normal.cdf(90))"
   ]
  },
  {
   "cell_type": "code",
   "execution_count": null,
   "metadata": {},
   "outputs": [],
   "source": []
  },
  {
   "cell_type": "code",
   "execution_count": null,
   "metadata": {},
   "outputs": [],
   "source": []
  }
 ],
 "metadata": {
  "kernelspec": {
   "display_name": "Python 3.10.7 64-bit",
   "language": "python",
   "name": "python3"
  },
  "language_info": {
   "codemirror_mode": {
    "name": "ipython",
    "version": 3
   },
   "file_extension": ".py",
   "mimetype": "text/x-python",
   "name": "python",
   "nbconvert_exporter": "python",
   "pygments_lexer": "ipython3",
   "version": "3.10.7"
  },
  "orig_nbformat": 4,
  "vscode": {
   "interpreter": {
    "hash": "0d8f62de8d159179b6c7667a4d5d4ef6210275a6b2f6b808206464195fd50fc9"
   }
  }
 },
 "nbformat": 4,
 "nbformat_minor": 2
}
