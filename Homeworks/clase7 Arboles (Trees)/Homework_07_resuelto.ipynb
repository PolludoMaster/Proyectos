{
 "cells": [
  {
   "cell_type": "markdown",
   "metadata": {},
   "source": [
    "# Práctica Clase 7"
   ]
  },
  {
   "cell_type": "markdown",
   "metadata": {},
   "source": [
    "1) Diseñar una clase que permita trabajar con un árbol binario y que contenga los métodos:<br>\n",
    "    * insertaVal: para insertar un dato<br>\n",
    "    * buscaVal: que devuelva True o False si existe o no un dato<br>\n",
    "    * verVal: que imprima por pantalla los valores del árbol<br>\n",
    "\n",
    "Nota: Se puede utilizar la recursividad\n"
   ]
  },
  {
   "cell_type": "code",
   "execution_count": 16,
   "metadata": {},
   "outputs": [],
   "source": [
    "class Nodo():\n",
    "    def __init__(self, dato):\n",
    "        self.dato = dato\n",
    "        self.izq = None\n",
    "        self.der = None\n",
    "    \n",
    "    def insertaVal(self, dato):\n",
    "        if dato < self.dato:\n",
    "            if self.izq == None:\n",
    "                self.izq = Nodo(dato)\n",
    "            else:\n",
    "                self.izq.insertaVal(dato)\n",
    "        elif dato > self.dato:\n",
    "            if self.der == None:\n",
    "                 self.der = Nodo(dato)\n",
    "            else:\n",
    "                self.der.insertaVal(dato)\n",
    "        else: print(\"Valor repetido\")\n",
    "\n",
    "    def buscaVal(self, val_bus):\n",
    "        if val_bus < self.dato:\n",
    "            if self.izq == None:\n",
    "                return False\n",
    "            return self.izq.buscaVal(val_bus)\n",
    "        elif val_bus > self.dato:\n",
    "            if self.der == None:\n",
    "                return False\n",
    "            return self.der.buscaVal(val_bus)\n",
    "        else:\n",
    "            return True\n",
    "\n",
    "    def verVals(self):\n",
    "        if self.izq: self.izq.verVals()\n",
    "        print(self.dato)\n",
    "        if self.der: self.der.verVals()\n",
    "        "
   ]
  },
  {
   "cell_type": "code",
   "execution_count": 17,
   "metadata": {},
   "outputs": [
    {
     "name": "stdout",
     "output_type": "stream",
     "text": [
      "4\n",
      "8\n",
      "13\n",
      "15\n",
      "17\n",
      "25\n"
     ]
    }
   ],
   "source": [
    "raiz = Nodo(15)\n",
    "raiz.insertaVal(17)\n",
    "raiz.insertaVal(13)\n",
    "raiz.insertaVal(8)\n",
    "raiz.insertaVal(25)\n",
    "raiz.insertaVal(4)\n",
    "#print(raiz.buscaVal(4))\n",
    "raiz.verVals()"
   ]
  }
 ],
 "metadata": {
  "kernelspec": {
   "display_name": "Python 3.10.7 64-bit",
   "language": "python",
   "name": "python3"
  },
  "language_info": {
   "codemirror_mode": {
    "name": "ipython",
    "version": 3
   },
   "file_extension": ".py",
   "mimetype": "text/x-python",
   "name": "python",
   "nbconvert_exporter": "python",
   "pygments_lexer": "ipython3",
   "version": "3.10.7"
  },
  "vscode": {
   "interpreter": {
    "hash": "0d8f62de8d159179b6c7667a4d5d4ef6210275a6b2f6b808206464195fd50fc9"
   }
  }
 },
 "nbformat": 4,
 "nbformat_minor": 4
}
