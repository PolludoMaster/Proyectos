{
 "cells": [
  {
   "cell_type": "markdown",
   "metadata": {},
   "source": [
    "# Práctica Clase 5"
   ]
  },
  {
   "cell_type": "markdown",
   "metadata": {},
   "source": [
    "1) Implementar un juego, que consista en apilar números enteros del 1 al 20, de forma aleatoria, para lo cual debe usarse una estructura de Pila. \n",
    "Luego, el usuario debe elegir un número de veces en que se va a quitar elementos de la pila, los cuales, sumados entre sí, no deben superar el valor de 50.\n",
    "El usuario pierde si la suma supera ese valor. Si no lo supera, gana, pero su calificación será 10 menos el número elementos que falten quitar para todavía no superar 50.\n",
    "El programa debe informar si perdió, y si ganó, con qué calificación lo hizo.\n",
    "\n",
    "Consideraciones:<br>\n",
    "a. Se puede usar la función input() para obtener una entrada de teclado.<br>\n",
    "b. Se puede usar la el modulo random para obtener valores aleatorios."
   ]
  },
  {
   "cell_type": "code",
   "execution_count": 2,
   "metadata": {},
   "outputs": [
    {
     "name": "stdout",
     "output_type": "stream",
     "text": [
      "Quitados:  [13, 16, 10, 4, 11, 14]\n",
      "[5, 15, 6, 1, 8, 19, 9, 20, 12, 7, 3, 17, 18, 2]\n",
      "Usted ha perdido. :(\n"
     ]
    }
   ],
   "source": [
    "import random\n",
    "import numpy as np\n",
    "\n",
    "class Juego():\n",
    "    def __init__(self):\n",
    "        lista_numeros = []\n",
    "    def puntos(self):# cantidad):\n",
    "        self.puntos = 10\n",
    "        contador = 0\n",
    "\n",
    "        return(self.puntos)\n",
    "\n",
    "\n",
    "    def apilar_numeros(self):\n",
    "        self.lista_numeros = np.arange(1,21)\n",
    "        np.random.shuffle(self.lista_numeros)\n",
    "        self.lista_numeros = list(self.lista_numeros)\n",
    "    \n",
    "    \n",
    "    def quitar_ultimos(self, cantidad):\n",
    "        quitados = []\n",
    "        for i in range(cantidad):\n",
    "            quitados.append(self.lista_numeros.pop())\n",
    "        print(\"Quitados: \",quitados)\n",
    "\n",
    "        return (quitados)    \n",
    "    def jugar(self, cantidad):\n",
    "        self.apilar_numeros()\n",
    "        quitados =  self.quitar_ultimos(cantidad)\n",
    "        print(self.lista_numeros)\n",
    "        suma = np.sum(quitados)\n",
    "        if suma < 50:\n",
    "            contador = 0 #para restar puntos\n",
    "            suma += self.lista_numeros.pop()\n",
    "            while suma < 50:\n",
    "                contador += 1\n",
    "                suma += self.lista_numeros.pop()  \n",
    "            print(f\"Usted ha ganado! Su puntuación es: {self.puntos()-contador}\")\n",
    "        else:\n",
    "            print(\"Usted ha perdido. :(\")    \n",
    "\n",
    "\n",
    "\n",
    "\n",
    "\n",
    "if __name__ == \"__main__\":\n",
    "    numero = int(input(\"Ingrese la cantidad de numeros que quiere quitar: \"))\n",
    "    juego = Juego()\n",
    "    juego.jugar(numero)\n",
    "\n",
    "\n",
    "    \n"
   ]
  },
  {
   "cell_type": "markdown",
   "metadata": {},
   "source": [
    "2) Implementar un juego donde constas de 2 jarras, de capacidad 5 y 3 litros respectivamente, y debes colocar 4 litros en la jarra de 5L.\n",
    "Las opciones posibles son:\n",
    "* Llenar la jarra de 3 litros\n",
    "* Llenar la jarra de 5 litros\n",
    "* Vaciar la jarra de 3 litros\n",
    "* Vaciar la jarra de 5 litros\n",
    "* Verter el contenido de la jarra de 3 litros en la de 5 litros\n",
    "* Verter el contenido de la jarra de 5 litros en la de 3 litros"
   ]
  },
  {
   "cell_type": "code",
   "execution_count": 1,
   "metadata": {},
   "outputs": [],
   "source": [
    "\n",
    "class juegojarras:\n",
    "\n",
    "    def __init__(self,):\n",
    "        self.contenidojarra3 = 0\n",
    "        self.contenidojarra5 = 0\n",
    "    \n",
    "    def llenar_jarra3(self):\n",
    "        self.contenidojarra3 = 3\n",
    "    def llenar_jarra5(self):\n",
    "        self.contenidojarra5 = 5\n",
    "    def ver_estado_jarra3(self):\n",
    "        print('La jarra de 3 tiene',self.contenidojarra3, 'litros')\n",
    "    def ver_estado_jarra5(self):\n",
    "        print('La jarra de 5 tiene',self.contenidojarra5, 'litros')\n",
    "    def vaciar_jarra3(self):\n",
    "        self.contenidojarra3 = 0\n",
    "    def vaciar_jarra5(self):\n",
    "        self.contenidojarra5 = 0\n",
    "    def verter_3_a_5(self):\n",
    "        faltante = 5 - self.contenidojarra5\n",
    "        self.contenidojarra5 = self.contenidojarra5 + self.contenidojarra3 \n",
    "        self.contenidojarra3 = self.contenidojarra3 - faltante\n",
    "        if self.contenidojarra3 < 0:\n",
    "            self.contenidojarra3 = 0\n",
    "        if self.contenidojarra5 > 5:\n",
    "            self.contenidojarra5 = 5\n",
    "        if self.contenidojarra5 == 4:\n",
    "            print('GANASTE EL JUEGO')\n",
    "    def verter_5_a_3(self):\n",
    "        faltante = 3 - self.contenidojarra3\n",
    "        self.contenidojarra5 = self.contenidojarra5 - faltante\n",
    "        self.contenidojarra3 = self.contenidojarra3 + self.contenidojarra5\n",
    "        if self.contenidojarra5 < 0:\n",
    "            self.contenidojarra5 = 0\n",
    "        if self.contenidojarra3 > 3:\n",
    "            self.contenidojarra3 = 3    "
   ]
  },
  {
   "cell_type": "code",
   "execution_count": 2,
   "metadata": {},
   "outputs": [
    {
     "name": "stdout",
     "output_type": "stream",
     "text": [
      "La jarra de 5 tiene 3 litros\n",
      "La jarra de 3 tiene 0 litros\n",
      "La jarra de 5 tiene 5 litros\n",
      "La jarra de 3 tiene 1 litros\n",
      "GANASTE EL JUEGO\n",
      "La jarra de 5 tiene 4 litros\n",
      "La jarra de 3 tiene 0 litros\n"
     ]
    }
   ],
   "source": [
    "# Llenar la de 3\n",
    "        # Pasar a la de 5 (queda la de 5 con 3)\n",
    "        # Llenar la de 3\n",
    "        # Pasar a la de 5 (queda la de 5 con 5, la de 3 con 1)\n",
    "        # Tirar la de 5\n",
    "        # Pasar la de 3 a la 5 (queda la de 5 con 1)\n",
    "        # Llenar la de 3 y pasarla a la de 5 (Conseguimos 4 :D)\n",
    "\n",
    "juego = juegojarras()\n",
    "juego.llenar_jarra3()\n",
    "juego.verter_3_a_5()\n",
    "juego.ver_estado_jarra5()\n",
    "juego.ver_estado_jarra3()\n",
    "\n",
    "juego.llenar_jarra3()\n",
    "juego.verter_3_a_5()\n",
    "juego.ver_estado_jarra5()\n",
    "juego.ver_estado_jarra3()\n",
    "\n",
    "\n",
    "juego.vaciar_jarra5()\n",
    "juego.verter_3_a_5()\n",
    "juego.llenar_jarra3()\n",
    "juego.verter_3_a_5()\n",
    "juego.ver_estado_jarra5()\n",
    "juego.ver_estado_jarra3()"
   ]
  }
 ],
 "metadata": {
  "kernelspec": {
   "display_name": "Python 3.10.7 64-bit",
   "language": "python",
   "name": "python3"
  },
  "language_info": {
   "codemirror_mode": {
    "name": "ipython",
    "version": 3
   },
   "file_extension": ".py",
   "mimetype": "text/x-python",
   "name": "python",
   "nbconvert_exporter": "python",
   "pygments_lexer": "ipython3",
   "version": "3.10.7"
  },
  "vscode": {
   "interpreter": {
    "hash": "0d8f62de8d159179b6c7667a4d5d4ef6210275a6b2f6b808206464195fd50fc9"
   }
  }
 },
 "nbformat": 4,
 "nbformat_minor": 4
}
