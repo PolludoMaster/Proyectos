{
 "cells": [
  {
   "cell_type": "code",
   "execution_count": 3,
   "metadata": {},
   "outputs": [],
   "source": [
    "import pandas as pd\n",
    "import numpy as np"
   ]
  },
  {
   "cell_type": "code",
   "execution_count": null,
   "metadata": {},
   "outputs": [],
   "source": [
    "df = pd.read_csv('./datasets/Fuentes_Consumo_Energia.csv')"
   ]
  },
  {
   "cell_type": "code",
   "execution_count": null,
   "metadata": {},
   "outputs": [],
   "source": [
    "df"
   ]
  },
  {
   "cell_type": "code",
   "execution_count": null,
   "metadata": {},
   "outputs": [],
   "source": [
    "df.info()"
   ]
  },
  {
   "cell_type": "code",
   "execution_count": null,
   "metadata": {},
   "outputs": [],
   "source": [
    "df.shape"
   ]
  },
  {
   "cell_type": "code",
   "execution_count": null,
   "metadata": {},
   "outputs": [],
   "source": [
    "df1 = pd.read_csv('./datasets/GGAL - Cotizaciones historicas.csv')"
   ]
  },
  {
   "cell_type": "code",
   "execution_count": null,
   "metadata": {},
   "outputs": [],
   "source": [
    "df1"
   ]
  },
  {
   "cell_type": "code",
   "execution_count": null,
   "metadata": {},
   "outputs": [],
   "source": [
    "df1.info()"
   ]
  },
  {
   "cell_type": "code",
   "execution_count": null,
   "metadata": {},
   "outputs": [],
   "source": [
    "df1.shape"
   ]
  },
  {
   "cell_type": "markdown",
   "metadata": {},
   "source": [
    "Pregunta 1"
   ]
  },
  {
   "cell_type": "code",
   "execution_count": null,
   "metadata": {},
   "outputs": [],
   "source": [
    "def Ret_Pregunta01():\n",
    "    '''\n",
    "    Debes utilizar Pandas para ingestar en un objeto Dataframe el contenido del archivo provisto\n",
    "    \"Fuentes_Consumo_Energia.csv\".\n",
    "    Esta función debe informar la cantidad de registros cuya entidad sea Argentina retornando ese valor en un dato de tipo entero.\n",
    "    Pista averiguar la función Shape\n",
    "    '''\n",
    "    #Tu código aca:\n",
    "    df = pd.read_csv('./datasets/Fuentes_Consumo_Energia.csv')\n",
    "    return len(df[df.Entity == 'Argentina'])"
   ]
  },
  {
   "cell_type": "code",
   "execution_count": null,
   "metadata": {},
   "outputs": [],
   "source": [
    "len(df[df.Entity == 'Argentina'])"
   ]
  },
  {
   "cell_type": "markdown",
   "metadata": {},
   "source": [
    "Pregunta 2"
   ]
  },
  {
   "cell_type": "code",
   "execution_count": null,
   "metadata": {},
   "outputs": [],
   "source": [
    "def Ret_Pregunta02():\n",
    "    '''\n",
    "    Debes utilizar Pandas para ingestar en un objeto Dataframe el contenido del archivo provisto\n",
    "    \"Fuentes_Consumo_Energia.csv\".\n",
    "    Esta función debe eliminar las columnas 'Code' y 'Entity' y luego informar la cantidad de columnas\n",
    "    retornando ese valor en un dato de tipo entero.\n",
    "    '''\n",
    "    #Tu código aca:\n",
    "    df = pd.read_csv('./datasets/Fuentes_Consumo_Energia.csv')\n",
    "    dfmod = df.drop(['Code','Entity'],axis=1)\n",
    "    return len(dfmod.columns)"
   ]
  },
  {
   "cell_type": "code",
   "execution_count": null,
   "metadata": {},
   "outputs": [],
   "source": [
    "dfmod = df.drop(['Code','Entity'],axis=1)"
   ]
  },
  {
   "cell_type": "code",
   "execution_count": null,
   "metadata": {},
   "outputs": [],
   "source": [
    "len(dfmod.columns)"
   ]
  },
  {
   "cell_type": "markdown",
   "metadata": {},
   "source": [
    "Pregunta 3"
   ]
  },
  {
   "cell_type": "code",
   "execution_count": null,
   "metadata": {},
   "outputs": [],
   "source": [
    "def Ret_Pregunta03():\n",
    "    '''\n",
    "    Debes utilizar Pandas para ingestar en un objeto Dataframe el contenido del archivo provisto\n",
    "    \"Fuentes_Consumo_Energia.csv\".\n",
    "    Esta función debe informar la cantidad de registros, sin tener en cuenta aquellos con valores faltantes, para el campo 'Code' \n",
    "    y retornando ese valor en un dato de tipo entero.\n",
    "    '''\n",
    "    #Tu código aca:\n",
    "    df = pd.read_csv('./datasets/Fuentes_Consumo_Energia.csv')\n",
    "    return len(df.dropna(subset='Code'))"
   ]
  },
  {
   "cell_type": "code",
   "execution_count": null,
   "metadata": {},
   "outputs": [],
   "source": [
    "len(df.dropna(subset='Code'))"
   ]
  },
  {
   "cell_type": "markdown",
   "metadata": {},
   "source": [
    "Pregunta 4"
   ]
  },
  {
   "cell_type": "code",
   "execution_count": null,
   "metadata": {},
   "outputs": [],
   "source": [
    "def Ret_Pregunta04():\n",
    "    '''\n",
    "    Debes utilizar Pandas para ingestar en un objeto Dataframe el contenido del archivo provisto\n",
    "    \"Fuentes_Consumo_Energia.csv\".\n",
    "    El ExaJulio es una unidad diferent al TWh, es decir, no tiene sentido sumarlos o\n",
    "    buscar proporciones entre ellos. \n",
    "    La fórmula de conversión es: 277.778 Teravatios/Hora (TWh) = 1 Exajulio\n",
    "    Los campos terminados en \"_EJ\" corresponden a mediciones en Exajulios,\n",
    "    y los terminados en \"_TWh\" corresponden a Teravatios/Hora.\n",
    "    La consigna es crear un nuevo campo, que se denomine \"Consumo_Total\"\n",
    "    y que guarde la sumatoria de todos los consumos expresados en Teravatios/Hora\n",
    "    (convirtiendo a esta medida los que están en Exajulios).\n",
    "    Esta función debe informar el consumo total para la entidad 'World' y año '2019',\n",
    "    redondeado a 2 decimales, retornando ese valor en un dato de tipo float.\n",
    "    '''\n",
    "    #Tu código aca:\n",
    "    df = pd.read_csv('./datasets/Fuentes_Consumo_Energia.csv')\n",
    "    camposEJ = df.columns.where(df.columns.str.contains('EJ')).dropna()\n",
    "    camposConsumo = df.columns.drop(['Code','Year','Entity'])\n",
    "    df[camposEJ] = df[camposEJ]*277.778\n",
    "    df['Consumo_Total'] = df[camposConsumo].sum(axis=1)\n",
    "    dfmod = df[(df.Year==2019) & (df.Entity == 'World')]\n",
    "    return round(float(dfmod['Consumo_Total'].values),2)"
   ]
  },
  {
   "cell_type": "code",
   "execution_count": null,
   "metadata": {},
   "outputs": [],
   "source": [
    "Ret_Pregunta04()"
   ]
  },
  {
   "cell_type": "code",
   "execution_count": null,
   "metadata": {},
   "outputs": [],
   "source": [
    "camposEJ = df.columns.where(df.columns.str.contains('EJ')).dropna()\n",
    "camposConsumo = df.columns.drop(['Code','Year','Entity'])\n",
    "print(camposEJ)\n",
    "print(camposConsumo)"
   ]
  },
  {
   "cell_type": "code",
   "execution_count": null,
   "metadata": {},
   "outputs": [],
   "source": [
    "df"
   ]
  },
  {
   "cell_type": "code",
   "execution_count": null,
   "metadata": {},
   "outputs": [],
   "source": [
    "df[camposEJ] = df[camposEJ]*277.778\n",
    "df['Consumo_Total'] = df[camposConsumo].sum(axis=1)\n",
    "df"
   ]
  },
  {
   "cell_type": "code",
   "execution_count": null,
   "metadata": {},
   "outputs": [],
   "source": [
    "dfmod = df[(df.Year==2019) & (df.Entity == 'World')]\n",
    "round(float(dfmod['Consumo_Total'].values),2)"
   ]
  },
  {
   "cell_type": "markdown",
   "metadata": {},
   "source": [
    "Pregunta 5"
   ]
  },
  {
   "cell_type": "code",
   "execution_count": null,
   "metadata": {},
   "outputs": [],
   "source": [
    "def Ret_Pregunta05():\n",
    "    '''\n",
    "    Debes utilizar Pandas para ingestar en un objeto Dataframe el contenido del archivo provisto\n",
    "    \"Fuentes_Consumo_Energia.csv\".\n",
    "    Esta función debe informar el año de mayor generación de energía solar (Solar_Generation_TWh)\n",
    "    para la entidad 'Europe' retornando ese valor en un dato de tipo entero.\n",
    "    '''\n",
    "    #Tu código aca:\n",
    "    df = pd.read_csv('./datasets/Fuentes_Consumo_Energia.csv')\n",
    "    index = df[df.Entity=='Europe']['Solar_Generation_TWh'].idxmax()\n",
    "    return df.loc[index]['Year']"
   ]
  },
  {
   "cell_type": "code",
   "execution_count": null,
   "metadata": {},
   "outputs": [],
   "source": [
    "Ret_Pregunta05()"
   ]
  },
  {
   "cell_type": "code",
   "execution_count": null,
   "metadata": {},
   "outputs": [],
   "source": [
    "df = pd.read_csv('./datasets/Fuentes_Consumo_Energia.csv')"
   ]
  },
  {
   "cell_type": "code",
   "execution_count": null,
   "metadata": {},
   "outputs": [],
   "source": [
    "index = df[df.Entity=='Europe']['Solar_Generation_TWh'].idxmax()\n",
    "df.loc[index]['Year']"
   ]
  },
  {
   "cell_type": "markdown",
   "metadata": {},
   "source": [
    "Pregunta 6"
   ]
  },
  {
   "cell_type": "code",
   "execution_count": 4,
   "metadata": {},
   "outputs": [],
   "source": [
    "def Ret_Pregunta06(m1, m2):\n",
    "    '''\n",
    "    Esta función recibe dos arrays de Numpy, de 2 dimensiones cada uno y devuelve el valor booleano True si es posible realizar una multiplicación entre ambas matrices,\n",
    "    y el valor booleano False si no lo es.\n",
    "    Ej:\n",
    "        n1 = np.array([[0,0,0],[1,1,1],[2,2,2]])\n",
    "        n2 = np.array([[3,3],[4,4],[5,5]])\n",
    "        print(Ret_Pregunta06(n1,n2))\n",
    "            True            -> Valor devuelto por la función en este ejemplo\n",
    "        print(Ret_Pregunta06(n2,n1))\n",
    "            False            -> Valor devuelto por la función en este ejemplo\n",
    "    '''\n",
    "    #Tu código aca:\n",
    "    cond = False\n",
    "    if m1.shape[1]==m2.shape[0]: cond = True\n",
    "    return cond"
   ]
  },
  {
   "cell_type": "code",
   "execution_count": 5,
   "metadata": {},
   "outputs": [
    {
     "data": {
      "text/plain": [
       "False"
      ]
     },
     "execution_count": 5,
     "metadata": {},
     "output_type": "execute_result"
    }
   ],
   "source": [
    "n1 = np.array([[0,0,0],[1,1,1],[2,2,2]])\n",
    "n2 = np.array([[3,3],[4,4]])\n",
    "Ret_Pregunta06(n1,n2)"
   ]
  },
  {
   "cell_type": "markdown",
   "metadata": {},
   "source": [
    "Pregunta 7"
   ]
  },
  {
   "cell_type": "code",
   "execution_count": null,
   "metadata": {},
   "outputs": [],
   "source": [
    "def Ret_Pregunta07():\n",
    "    '''\n",
    "    Debes utilizar Pandas para ingestar en un objeto Dataframe el contenido del archivo provisto\n",
    "    \"Fuentes_Consumo_Energia.csv\".\n",
    "    Esta función debe informar cuál de la siguiente lista de países tuvo mayor generación de\n",
    "    energía solar (Solar_Generation_TWh) en el año 2019:\n",
    "        * Argentina\n",
    "        * Brazil\n",
    "        * Chile\n",
    "        * Colombia\n",
    "        * Ecuador\n",
    "        * Mexico\n",
    "        * Peru\n",
    "    Debe retornar el valor en un dato de tipo string.\n",
    "    '''\n",
    "    #Tu código aca:\n",
    "    df = pd.read_csv('./datasets/Fuentes_Consumo_Energia.csv')\n",
    "    paises = ['Argentina','Brazil','Chile','Colombia','Ecuador','Mexico','Peru']\n",
    "    dfmod=df[df.Year == 2019].groupby(by='Entity').sum()\n",
    "    pais = dfmod.loc[paises]['Solar_Generation_TWh'].idxmax()\n",
    "    return pais"
   ]
  },
  {
   "cell_type": "code",
   "execution_count": null,
   "metadata": {},
   "outputs": [],
   "source": [
    "Ret_Pregunta07()"
   ]
  },
  {
   "cell_type": "code",
   "execution_count": null,
   "metadata": {},
   "outputs": [],
   "source": [
    "df = pd.read_csv('./datasets/Fuentes_Consumo_Energia.csv')\n",
    "paises = ['Argentina','Brazil','Chile','Colombia','Ecuador','Mexico','Peru']\n",
    "dfmod=df[df.Year == 2019].groupby(by='Entity').sum()\n",
    "pais = dfmod.loc[paises]['Solar_Generation_TWh'].idxmax()"
   ]
  },
  {
   "cell_type": "markdown",
   "metadata": {},
   "source": [
    "Pregunta 8"
   ]
  },
  {
   "cell_type": "code",
   "execution_count": null,
   "metadata": {},
   "outputs": [],
   "source": [
    "def Ret_Pregunta08():\n",
    "    '''\n",
    "    Debes utilizar Pandas para ingestar en un objeto Dataframe el contenido del archivo provisto\n",
    "    \"Fuentes_Consumo_Energia.csv\".\n",
    "    Esta función debe informar la cantidad de entidades diferentes que están presentes en el dataset, retornando ese valor en un dato de tipo entero.\n",
    "    '''\n",
    "    #Tu código aca:\n",
    "    df = pd.read_csv('./datasets/Fuentes_Consumo_Energia.csv')\n",
    "    return df['Entity'].nunique()"
   ]
  },
  {
   "cell_type": "code",
   "execution_count": null,
   "metadata": {},
   "outputs": [],
   "source": [
    "df = pd.read_csv('./datasets/Fuentes_Consumo_Energia.csv')\n",
    "df['Entity'].nunique()"
   ]
  },
  {
   "cell_type": "markdown",
   "metadata": {},
   "source": [
    "Pregunta 9"
   ]
  },
  {
   "cell_type": "code",
   "execution_count": 6,
   "metadata": {},
   "outputs": [],
   "source": [
    "def Ret_Pregunta09():\n",
    "    '''\n",
    "    Debes utilizar Pandas para ingestar en un objeto Dataframe el contenido del archivo provisto\n",
    "    \"datasets/Tabla1_ejercicio.csv\" y \"datasets/Tabla2_ejercicio.csv\".\n",
    "    Esta función debe retornar: score_promedio_femenino y score_promedio_masculino en formato tupla, teniendo en cuenta que no debe haber registros repetidos.\n",
    "    '''\n",
    "    #Tu código aca:\n",
    "    dft1 = pd.read_csv('./datasets/Tabla1_ejercicio.csv',sep=';')\n",
    "    dft2 = pd.read_csv('./datasets/Tabla2_ejercicio.csv',sep=';')\n",
    "    dft3 = dft1.merge(dft2)\n",
    "    dft3.drop_duplicates(inplace=True)\n",
    "    #Scores como tupla\n",
    "    score_promedio_femenino = round(dft3[dft3.sexo=='F']['score'].mean(),2)\n",
    "    score_promedio_masculino = round(dft3[dft3.sexo=='M']['score'].mean(),2)\n",
    "    score = (score_promedio_femenino,score_promedio_masculino)\n",
    "    return score"
   ]
  },
  {
   "cell_type": "code",
   "execution_count": 56,
   "metadata": {},
   "outputs": [
    {
     "data": {
      "text/plain": [
       "(630.26, 772.28)"
      ]
     },
     "execution_count": 56,
     "metadata": {},
     "output_type": "execute_result"
    }
   ],
   "source": [
    "Ret_Pregunta09()"
   ]
  },
  {
   "cell_type": "code",
   "execution_count": 48,
   "metadata": {},
   "outputs": [],
   "source": [
    "dft1 = pd.read_csv('./datasets/Tabla1_ejercicio.csv',sep=';')\n",
    "dft2 = pd.read_csv('./datasets/Tabla2_ejercicio.csv',sep=';')"
   ]
  },
  {
   "cell_type": "code",
   "execution_count": null,
   "metadata": {},
   "outputs": [],
   "source": [
    "dft1"
   ]
  },
  {
   "cell_type": "code",
   "execution_count": null,
   "metadata": {},
   "outputs": [],
   "source": [
    "dft1.shape"
   ]
  },
  {
   "cell_type": "code",
   "execution_count": null,
   "metadata": {},
   "outputs": [],
   "source": [
    "dft1.nunique()"
   ]
  },
  {
   "cell_type": "code",
   "execution_count": null,
   "metadata": {},
   "outputs": [],
   "source": [
    "dft2"
   ]
  },
  {
   "cell_type": "code",
   "execution_count": null,
   "metadata": {},
   "outputs": [],
   "source": [
    "dft2.info()"
   ]
  },
  {
   "cell_type": "code",
   "execution_count": null,
   "metadata": {},
   "outputs": [],
   "source": [
    "dft2.nunique()"
   ]
  },
  {
   "cell_type": "code",
   "execution_count": null,
   "metadata": {},
   "outputs": [],
   "source": [
    "dft2m = dft2.groupby('pers_id').mean()"
   ]
  },
  {
   "cell_type": "code",
   "execution_count": 43,
   "metadata": {},
   "outputs": [],
   "source": [
    "dft1.drop_duplicates(inplace=True)"
   ]
  },
  {
   "cell_type": "code",
   "execution_count": 49,
   "metadata": {},
   "outputs": [
    {
     "data": {
      "text/html": [
       "<div>\n",
       "<style scoped>\n",
       "    .dataframe tbody tr th:only-of-type {\n",
       "        vertical-align: middle;\n",
       "    }\n",
       "\n",
       "    .dataframe tbody tr th {\n",
       "        vertical-align: top;\n",
       "    }\n",
       "\n",
       "    .dataframe thead th {\n",
       "        text-align: right;\n",
       "    }\n",
       "</style>\n",
       "<table border=\"1\" class=\"dataframe\">\n",
       "  <thead>\n",
       "    <tr style=\"text-align: right;\">\n",
       "      <th></th>\n",
       "      <th>pers_id</th>\n",
       "      <th>sexo</th>\n",
       "      <th>edad</th>\n",
       "      <th>ingreso</th>\n",
       "      <th>situacion_lab</th>\n",
       "      <th>periodo</th>\n",
       "      <th>score</th>\n",
       "    </tr>\n",
       "  </thead>\n",
       "  <tbody>\n",
       "    <tr>\n",
       "      <th>0</th>\n",
       "      <td>71906556521</td>\n",
       "      <td>F</td>\n",
       "      <td>47</td>\n",
       "      <td>35926.28125</td>\n",
       "      <td>Sin_situacion_declarada</td>\n",
       "      <td>201906</td>\n",
       "      <td>919</td>\n",
       "    </tr>\n",
       "    <tr>\n",
       "      <th>1</th>\n",
       "      <td>71906556521</td>\n",
       "      <td>F</td>\n",
       "      <td>47</td>\n",
       "      <td>35926.28125</td>\n",
       "      <td>Sin_situacion_declarada</td>\n",
       "      <td>201906</td>\n",
       "      <td>919</td>\n",
       "    </tr>\n",
       "    <tr>\n",
       "      <th>2</th>\n",
       "      <td>71906556521</td>\n",
       "      <td>F</td>\n",
       "      <td>47</td>\n",
       "      <td>35926.28125</td>\n",
       "      <td>Sin_situacion_declarada</td>\n",
       "      <td>201909</td>\n",
       "      <td>738</td>\n",
       "    </tr>\n",
       "    <tr>\n",
       "      <th>3</th>\n",
       "      <td>71906556521</td>\n",
       "      <td>F</td>\n",
       "      <td>47</td>\n",
       "      <td>35926.28125</td>\n",
       "      <td>Sin_situacion_declarada</td>\n",
       "      <td>201909</td>\n",
       "      <td>919</td>\n",
       "    </tr>\n",
       "    <tr>\n",
       "      <th>4</th>\n",
       "      <td>71906556521</td>\n",
       "      <td>F</td>\n",
       "      <td>47</td>\n",
       "      <td>35926.28125</td>\n",
       "      <td>Sin_situacion_declarada</td>\n",
       "      <td>201912</td>\n",
       "      <td>919</td>\n",
       "    </tr>\n",
       "    <tr>\n",
       "      <th>...</th>\n",
       "      <td>...</td>\n",
       "      <td>...</td>\n",
       "      <td>...</td>\n",
       "      <td>...</td>\n",
       "      <td>...</td>\n",
       "      <td>...</td>\n",
       "      <td>...</td>\n",
       "    </tr>\n",
       "    <tr>\n",
       "      <th>15871</th>\n",
       "      <td>57646643429</td>\n",
       "      <td>M</td>\n",
       "      <td>33</td>\n",
       "      <td>37955.50781</td>\n",
       "      <td>Relacion_dependencia</td>\n",
       "      <td>201909</td>\n",
       "      <td>683</td>\n",
       "    </tr>\n",
       "    <tr>\n",
       "      <th>15872</th>\n",
       "      <td>57646643429</td>\n",
       "      <td>M</td>\n",
       "      <td>33</td>\n",
       "      <td>37955.50781</td>\n",
       "      <td>Relacion_dependencia</td>\n",
       "      <td>201912</td>\n",
       "      <td>799</td>\n",
       "    </tr>\n",
       "    <tr>\n",
       "      <th>15873</th>\n",
       "      <td>92370836565</td>\n",
       "      <td>M</td>\n",
       "      <td>41</td>\n",
       "      <td>92338.20313</td>\n",
       "      <td>Relacion_dependencia</td>\n",
       "      <td>201906</td>\n",
       "      <td>900</td>\n",
       "    </tr>\n",
       "    <tr>\n",
       "      <th>15874</th>\n",
       "      <td>92370836565</td>\n",
       "      <td>M</td>\n",
       "      <td>41</td>\n",
       "      <td>92338.20313</td>\n",
       "      <td>Relacion_dependencia</td>\n",
       "      <td>201909</td>\n",
       "      <td>763</td>\n",
       "    </tr>\n",
       "    <tr>\n",
       "      <th>15875</th>\n",
       "      <td>92370836565</td>\n",
       "      <td>M</td>\n",
       "      <td>41</td>\n",
       "      <td>92338.20313</td>\n",
       "      <td>Relacion_dependencia</td>\n",
       "      <td>201912</td>\n",
       "      <td>900</td>\n",
       "    </tr>\n",
       "  </tbody>\n",
       "</table>\n",
       "<p>15876 rows × 7 columns</p>\n",
       "</div>"
      ],
      "text/plain": [
       "           pers_id sexo  edad      ingreso            situacion_lab  periodo  \\\n",
       "0      71906556521    F    47  35926.28125  Sin_situacion_declarada   201906   \n",
       "1      71906556521    F    47  35926.28125  Sin_situacion_declarada   201906   \n",
       "2      71906556521    F    47  35926.28125  Sin_situacion_declarada   201909   \n",
       "3      71906556521    F    47  35926.28125  Sin_situacion_declarada   201909   \n",
       "4      71906556521    F    47  35926.28125  Sin_situacion_declarada   201912   \n",
       "...            ...  ...   ...          ...                      ...      ...   \n",
       "15871  57646643429    M    33  37955.50781     Relacion_dependencia   201909   \n",
       "15872  57646643429    M    33  37955.50781     Relacion_dependencia   201912   \n",
       "15873  92370836565    M    41  92338.20313     Relacion_dependencia   201906   \n",
       "15874  92370836565    M    41  92338.20313     Relacion_dependencia   201909   \n",
       "15875  92370836565    M    41  92338.20313     Relacion_dependencia   201912   \n",
       "\n",
       "       score  \n",
       "0        919  \n",
       "1        919  \n",
       "2        738  \n",
       "3        919  \n",
       "4        919  \n",
       "...      ...  \n",
       "15871    683  \n",
       "15872    799  \n",
       "15873    900  \n",
       "15874    763  \n",
       "15875    900  \n",
       "\n",
       "[15876 rows x 7 columns]"
      ]
     },
     "execution_count": 49,
     "metadata": {},
     "output_type": "execute_result"
    }
   ],
   "source": [
    "dft3 = dft1.merge(dft2)\n",
    "dft3"
   ]
  },
  {
   "cell_type": "code",
   "execution_count": 50,
   "metadata": {},
   "outputs": [],
   "source": [
    "dft3.drop_duplicates(inplace=True)"
   ]
  },
  {
   "cell_type": "code",
   "execution_count": 51,
   "metadata": {},
   "outputs": [
    {
     "data": {
      "text/plain": [
       "630.261911750318"
      ]
     },
     "execution_count": 51,
     "metadata": {},
     "output_type": "execute_result"
    }
   ],
   "source": [
    "dft3[dft3.sexo=='F']['score'].mean()"
   ]
  },
  {
   "cell_type": "code",
   "execution_count": 13,
   "metadata": {},
   "outputs": [
    {
     "data": {
      "text/html": [
       "<div>\n",
       "<style scoped>\n",
       "    .dataframe tbody tr th:only-of-type {\n",
       "        vertical-align: middle;\n",
       "    }\n",
       "\n",
       "    .dataframe tbody tr th {\n",
       "        vertical-align: top;\n",
       "    }\n",
       "\n",
       "    .dataframe thead th {\n",
       "        text-align: right;\n",
       "    }\n",
       "</style>\n",
       "<table border=\"1\" class=\"dataframe\">\n",
       "  <thead>\n",
       "    <tr style=\"text-align: right;\">\n",
       "      <th></th>\n",
       "      <th></th>\n",
       "      <th>edad</th>\n",
       "      <th>ingreso</th>\n",
       "      <th>periodo</th>\n",
       "      <th>score</th>\n",
       "    </tr>\n",
       "    <tr>\n",
       "      <th>pers_id</th>\n",
       "      <th>sexo</th>\n",
       "      <th></th>\n",
       "      <th></th>\n",
       "      <th></th>\n",
       "      <th></th>\n",
       "    </tr>\n",
       "  </thead>\n",
       "  <tbody>\n",
       "    <tr>\n",
       "      <th>27817725</th>\n",
       "      <th>F</th>\n",
       "      <td>40.0</td>\n",
       "      <td>10622.45898</td>\n",
       "      <td>201909.0</td>\n",
       "      <td>814.000000</td>\n",
       "    </tr>\n",
       "    <tr>\n",
       "      <th>37570691</th>\n",
       "      <th>M</th>\n",
       "      <td>24.0</td>\n",
       "      <td>43974.76563</td>\n",
       "      <td>201909.0</td>\n",
       "      <td>580.333333</td>\n",
       "    </tr>\n",
       "    <tr>\n",
       "      <th>40181240</th>\n",
       "      <th>F</th>\n",
       "      <td>51.0</td>\n",
       "      <td>27217.44727</td>\n",
       "      <td>201909.0</td>\n",
       "      <td>376.333333</td>\n",
       "    </tr>\n",
       "    <tr>\n",
       "      <th>52105045</th>\n",
       "      <th>F</th>\n",
       "      <td>56.0</td>\n",
       "      <td>55331.26563</td>\n",
       "      <td>201909.0</td>\n",
       "      <td>495.000000</td>\n",
       "    </tr>\n",
       "    <tr>\n",
       "      <th>63502595</th>\n",
       "      <th>F</th>\n",
       "      <td>50.0</td>\n",
       "      <td>33757.90625</td>\n",
       "      <td>201909.0</td>\n",
       "      <td>467.000000</td>\n",
       "    </tr>\n",
       "    <tr>\n",
       "      <th>...</th>\n",
       "      <th>...</th>\n",
       "      <td>...</td>\n",
       "      <td>...</td>\n",
       "      <td>...</td>\n",
       "      <td>...</td>\n",
       "    </tr>\n",
       "    <tr>\n",
       "      <th>99744055227</th>\n",
       "      <th>F</th>\n",
       "      <td>56.0</td>\n",
       "      <td>53152.60938</td>\n",
       "      <td>201909.0</td>\n",
       "      <td>926.333333</td>\n",
       "    </tr>\n",
       "    <tr>\n",
       "      <th>99788780024</th>\n",
       "      <th>F</th>\n",
       "      <td>56.0</td>\n",
       "      <td>61848.82031</td>\n",
       "      <td>201909.0</td>\n",
       "      <td>666.333333</td>\n",
       "    </tr>\n",
       "    <tr>\n",
       "      <th>99897294254</th>\n",
       "      <th>F</th>\n",
       "      <td>44.0</td>\n",
       "      <td>47892.31250</td>\n",
       "      <td>201909.0</td>\n",
       "      <td>773.666667</td>\n",
       "    </tr>\n",
       "    <tr>\n",
       "      <th>99938763350</th>\n",
       "      <th>F</th>\n",
       "      <td>52.0</td>\n",
       "      <td>12823.33105</td>\n",
       "      <td>201909.0</td>\n",
       "      <td>151.500000</td>\n",
       "    </tr>\n",
       "    <tr>\n",
       "      <th>99958693785</th>\n",
       "      <th>F</th>\n",
       "      <td>29.0</td>\n",
       "      <td>25437.70898</td>\n",
       "      <td>201909.0</td>\n",
       "      <td>428.333333</td>\n",
       "    </tr>\n",
       "  </tbody>\n",
       "</table>\n",
       "<p>4853 rows × 4 columns</p>\n",
       "</div>"
      ],
      "text/plain": [
       "                  edad      ingreso   periodo       score\n",
       "pers_id     sexo                                         \n",
       "27817725    F     40.0  10622.45898  201909.0  814.000000\n",
       "37570691    M     24.0  43974.76563  201909.0  580.333333\n",
       "40181240    F     51.0  27217.44727  201909.0  376.333333\n",
       "52105045    F     56.0  55331.26563  201909.0  495.000000\n",
       "63502595    F     50.0  33757.90625  201909.0  467.000000\n",
       "...                ...          ...       ...         ...\n",
       "99744055227 F     56.0  53152.60938  201909.0  926.333333\n",
       "99788780024 F     56.0  61848.82031  201909.0  666.333333\n",
       "99897294254 F     44.0  47892.31250  201909.0  773.666667\n",
       "99938763350 F     52.0  12823.33105  201909.0  151.500000\n",
       "99958693785 F     29.0  25437.70898  201909.0  428.333333\n",
       "\n",
       "[4853 rows x 4 columns]"
      ]
     },
     "execution_count": 13,
     "metadata": {},
     "output_type": "execute_result"
    }
   ],
   "source": [
    "dft3m"
   ]
  },
  {
   "cell_type": "code",
   "execution_count": null,
   "metadata": {},
   "outputs": [],
   "source": [
    "dft3.drop_duplicates(subset='pers_id', inplace=True)"
   ]
  },
  {
   "cell_type": "code",
   "execution_count": 52,
   "metadata": {},
   "outputs": [],
   "source": [
    "score_promedio_femenino = round(dft3[dft3.sexo=='F']['score'].mean(),2)\n",
    "score_promedio_masculino = round(dft3[dft3.sexo=='M']['score'].mean(),2)"
   ]
  },
  {
   "cell_type": "code",
   "execution_count": 53,
   "metadata": {},
   "outputs": [],
   "source": [
    "score = (score_promedio_femenino,score_promedio_masculino)"
   ]
  },
  {
   "cell_type": "code",
   "execution_count": 54,
   "metadata": {},
   "outputs": [
    {
     "data": {
      "text/plain": [
       "(630.26, 772.28)"
      ]
     },
     "execution_count": 54,
     "metadata": {},
     "output_type": "execute_result"
    }
   ],
   "source": [
    "score"
   ]
  },
  {
   "cell_type": "code",
   "execution_count": null,
   "metadata": {},
   "outputs": [],
   "source": []
  },
  {
   "cell_type": "markdown",
   "metadata": {},
   "source": [
    "Pregunta 10"
   ]
  },
  {
   "cell_type": "code",
   "execution_count": null,
   "metadata": {},
   "outputs": [],
   "source": [
    "def Ret_Pregunta10(lista):\n",
    "    '''\n",
    "    Esta función recibe como parámetro un objeto de la clase Lista() definida en el archivo Lista.py. Debe recorrer la lista y retornan la cantidad de nodos que posee. Utilizar el método de la clase\n",
    "    Lista llamado getCabecera()\n",
    "    Ejemplo:\n",
    "        lis = Lista()\n",
    "        lista.agregarElemento(1)\n",
    "        lista.agregarElemento(2)\n",
    "        lista.agregarElemento(3)\n",
    "        print(Ret_Pregunta10(lista))\n",
    "            3    -> Debe ser el valor devuelto por la función Ret_Pregunta10() en este ejemplo\n",
    "    '''\n",
    "    #Tu código aca:\n",
    "    i = 0\n",
    "    nodo = lista.getCabecera()\n",
    "    if nodo:\n",
    "        i=1\n",
    "        while nodo.getCabecera():\n",
    "            i+=1\n",
    "            nodo = nodo.getCabecera()\n",
    "    return i"
   ]
  },
  {
   "cell_type": "code",
   "execution_count": null,
   "metadata": {},
   "outputs": [],
   "source": []
  }
 ],
 "metadata": {
  "kernelspec": {
   "display_name": "Python 3.10.7 64-bit",
   "language": "python",
   "name": "python3"
  },
  "language_info": {
   "codemirror_mode": {
    "name": "ipython",
    "version": 3
   },
   "file_extension": ".py",
   "mimetype": "text/x-python",
   "name": "python",
   "nbconvert_exporter": "python",
   "pygments_lexer": "ipython3",
   "version": "3.10.7"
  },
  "orig_nbformat": 4,
  "vscode": {
   "interpreter": {
    "hash": "0d8f62de8d159179b6c7667a4d5d4ef6210275a6b2f6b808206464195fd50fc9"
   }
  }
 },
 "nbformat": 4,
 "nbformat_minor": 2
}
