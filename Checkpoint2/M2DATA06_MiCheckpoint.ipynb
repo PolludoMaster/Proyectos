{
 "cells": [
  {
   "cell_type": "markdown",
   "metadata": {},
   "source": [
    "### Modulo 2, Checkpoint\n",
    "## Respuestas propias"
   ]
  },
  {
   "cell_type": "markdown",
   "metadata": {},
   "source": [
    "---\n",
    "### KPIs "
   ]
  },
  {
   "cell_type": "markdown",
   "metadata": {},
   "source": [
    "1. Todos las métricas son KPI's\n",
    "> Verdadero o Falso\n",
    "* Falso (no todas las metricas son KPI's, perotodos los KPI's están basados en métricas)"
   ]
  },
  {
   "cell_type": "markdown",
   "metadata": {},
   "source": [
    "---"
   ]
  },
  {
   "cell_type": "markdown",
   "metadata": {},
   "source": [
    "2. Un KPI es un indicador clave de rendimiento que ayuda a evaluar el valor actual el(del?) grado de cumplimiento de objetivo definido basándose en métricas. \n",
    "> Verdadero o Falso\n",
    "* Verdadero. (Es justamente esa su definición)"
   ]
  },
  {
   "cell_type": "markdown",
   "metadata": {},
   "source": [
    "---"
   ]
  },
  {
   "cell_type": "markdown",
   "metadata": {},
   "source": [
    "3. Para el Sector de Instalaciones de una empresa de Televisión por Cable, ¿Cuál de estos indicadores puede representar un KPI?\n",
    "> 1. Gasto de publicidad en internet sobre ganancia adquirida para evaluar la efectividad de las campañas de marketing. \n",
    "> 2. Cantidad de usuarios por central para evaluar la instalación de nuevas centrales. \n",
    "> 3. Demora promedio en los tiempos de atención al cliente por el canal telefónico. \n",
    "* (2) Cantidad de usuarios por central para evaluar la instalación de nuevas centrales. "
   ]
  },
  {
   "cell_type": "markdown",
   "metadata": {},
   "source": [
    "---"
   ]
  },
  {
   "cell_type": "markdown",
   "metadata": {},
   "source": [
    "4. El espacio muestral es: \n",
    "> 1. El conjunto de todos los resultados posibles de un experimento. \n",
    "> 2. Una tabla con las distintas funciones de probabilidad. \n",
    "> 3. Un evento que puede describirse con una característica unica. \n",
    "* (1) El conjunto de todos los resultados posibles de un experimento. "
   ]
  },
  {
   "cell_type": "markdown",
   "metadata": {},
   "source": [
    "---"
   ]
  },
  {
   "cell_type": "markdown",
   "metadata": {},
   "source": [
    "5. Dos sucesos son compatibles: \n",
    "> 1. Cuando pueden ocurrir al mismo tiempo. \n",
    "> 2. Cuando son mutuamente excluyentes. \n",
    "> 3. Cuando corresponden a un conjunto de eventos colectivamente exhaustivo. \n",
    "* (1) Cuando pueden ocurrir al mismo tiempo"
   ]
  },
  {
   "cell_type": "markdown",
   "metadata": {},
   "source": [
    "---\n",
    "### SQL\n",
    "Base de datos a utilizar: https://drive.google.com/drive/folders/1p0EfQ7NyJJNvWIlczDgUPStRTfMxxji9?usp=sharing"
   ]
  },
  {
   "cell_type": "markdown",
   "metadata": {},
   "source": [
    "6. ¿Cuál es el id de Producto cuyo nombre es EPSON COPYFAX 2000?\n",
    "* 42737"
   ]
  },
  {
   "cell_type": "markdown",
   "metadata": {},
   "source": [
    "---"
   ]
  },
  {
   "cell_type": "markdown",
   "metadata": {},
   "source": [
    "7. ¿Cuál es el canal de ventas con menor cantidad de ventas registradas?\n",
    "* 1, Telefonica (11.582 ventas)"
   ]
  },
  {
   "cell_type": "markdown",
   "metadata": {},
   "source": [
    "---"
   ]
  },
  {
   "cell_type": "markdown",
   "metadata": {},
   "source": [
    "8. ¿Cuál fue el mes con mayor venta de la sucursal 13 para el año 2015?\n",
    "> 9, 3, 12, 2, 8\n",
    "* 3, marzo, con $97.649,50 "
   ]
  },
  {
   "cell_type": "markdown",
   "metadata": {},
   "source": [
    "---"
   ]
  },
  {
   "cell_type": "markdown",
   "metadata": {},
   "source": [
    "9. Se define el tiempo de entrega como el tiempo en días transcurrido entre que se realiza la compra y se efectua la entrega. Par analizar mejoras en el servicio, la dirección desea saber: cuál es el año con el promedio más alto de este tiempo de entrega. (Fecha = Fecha de venta; Fecha_Entrega = Fecha de entrega) \n",
    "* 2020, promedio de 5.08 dias"
   ]
  },
  {
   "cell_type": "markdown",
   "metadata": {},
   "source": [
    "---"
   ]
  },
  {
   "cell_type": "markdown",
   "metadata": {},
   "source": [
    "10. La dirección desea saber que tipo de producto tiene la mayor venta en 2020 (Tabla 'producto', campo Tipo = Tipo de producto) \n",
    "> Informática, estuchería, audio, impresión, gabinetes, grabación, bases, gaming. \n",
    "* Informática"
   ]
  },
  {
   "cell_type": "markdown",
   "metadata": {},
   "source": [
    "---"
   ]
  },
  {
   "cell_type": "markdown",
   "metadata": {},
   "source": [
    "11. ¿Cuál es el año y mes con la mayor cantidad de productos vendidos? Informar la respuesta con 4 digitos para el año y 2 para el mes. Por ejemplo 201506 seria Junio 2015\n",
    "* 202011 (noviembre 2020; 173 productos vendidos)\n",
    "* En realidad es 202009 (no se porqué xD)"
   ]
  },
  {
   "cell_type": "markdown",
   "metadata": {},
   "source": [
    "---"
   ]
  },
  {
   "cell_type": "markdown",
   "metadata": {},
   "source": [
    "12. ¿Cuantos productos tienen la palabra DVD en alguna parte de su nombre/concepto?\n",
    "* 11"
   ]
  },
  {
   "cell_type": "markdown",
   "metadata": {},
   "source": [
    "---"
   ]
  },
  {
   "cell_type": "markdown",
   "metadata": {},
   "source": [
    "13. ¿Cual de estos tipos de producto, tiene la menor diferencia de precio entre sus minimos y maximos?\n",
    "> Gabinetes, Gaming, Impresión\n",
    "* Gaming, 46 de diferencia"
   ]
  },
  {
   "cell_type": "markdown",
   "metadata": {},
   "source": [
    "---"
   ]
  },
  {
   "cell_type": "markdown",
   "metadata": {},
   "source": [
    "14.  Teniendo en cuenta que Fecha es la fecha real de compra, y Fecha_Entrega es la fecha real que se entrego el producto. ¿Cuantas ventas NO se entregaron el mismo mes en que fueron compradas? <br>"
   ]
  },
  {
   "cell_type": "markdown",
   "metadata": {},
   "source": [
    "| Venta | Fecha | Fecha_Entrega | resultado |\n",
    "| 1 | 2018-03-09 | 2018-03-25 | Se entrego el mismo mes que fue hecha la venta |\n",
    "| 2 | 2020-06-29 | 2020-07-01 | No se entrego el mismo mes que la venta |"
   ]
  },
  {
   "cell_type": "markdown",
   "metadata": {},
   "source": [
    "* 6831"
   ]
  },
  {
   "cell_type": "markdown",
   "metadata": {},
   "source": [
    "---"
   ]
  },
  {
   "cell_type": "markdown",
   "metadata": {},
   "source": [
    "15. ¿Cual es el Id del empleado que mayor cantidad de productos vendio en toda la historia de las ventas?\n",
    "> 3603 <br>\n",
    "> 3504<br>\n",
    "> 1675<br>\n",
    "> 3186<br>\n",
    "* 1675, con 1150 productos vendidos"
   ]
  },
  {
   "cell_type": "markdown",
   "metadata": {},
   "source": [
    "---\n",
    "### Estadística"
   ]
  },
  {
   "cell_type": "markdown",
   "metadata": {},
   "source": [
    "16. Si se colocan 5 canicas blancas y 5 canicas negras dentro de un frasco y luego, de manera aleatoria se quitan 2 seguidas \n",
    "¿Cuál es la probabilidad de que ambas sean blancas?\n",
    "* (5/10) * (4/9) = 0.22"
   ]
  },
  {
   "cell_type": "code",
   "execution_count": 28,
   "metadata": {},
   "outputs": [
    {
     "data": {
      "text/plain": [
       "0.2222222222222222"
      ]
     },
     "execution_count": 28,
     "metadata": {},
     "output_type": "execute_result"
    }
   ],
   "source": [
    "5/10 * 4/9"
   ]
  },
  {
   "cell_type": "markdown",
   "metadata": {},
   "source": [
    "---"
   ]
  },
  {
   "cell_type": "markdown",
   "metadata": {},
   "source": [
    "17. Si se colocan 5 canicas blancas y 5 canicas negras dentro de un frasco y luego, de manera aleatoria se quitan 2 seguidas ¿Cuál es la probabilidad de que ambas sean de un mismo color? \n",
    "* (5/10) * (4/9) + (5/10) * (4/9) = 0.44"
   ]
  },
  {
   "cell_type": "code",
   "execution_count": 2,
   "metadata": {},
   "outputs": [
    {
     "data": {
      "text/plain": [
       "0.4444444444444444"
      ]
     },
     "execution_count": 2,
     "metadata": {},
     "output_type": "execute_result"
    }
   ],
   "source": [
    "(5/10)*(4/9) + (5/10)*(4/9)"
   ]
  },
  {
   "cell_type": "code",
   "execution_count": 22,
   "metadata": {},
   "outputs": [
    {
     "data": {
      "text/plain": [
       "0.2222222222222222"
      ]
     },
     "execution_count": 22,
     "metadata": {},
     "output_type": "execute_result"
    }
   ],
   "source": [
    "2/9"
   ]
  },
  {
   "cell_type": "markdown",
   "metadata": {},
   "source": [
    "---"
   ]
  },
  {
   "cell_type": "markdown",
   "metadata": {},
   "source": [
    "18. Considerando un juego que consiste en acertar a la suma de la tirada de 2 dados, ¿cuál sería el valor de la suma más probable? \n",
    "* 7"
   ]
  },
  {
   "cell_type": "markdown",
   "metadata": {},
   "source": [
    "---"
   ]
  },
  {
   "cell_type": "markdown",
   "metadata": {},
   "source": [
    "19. En una tramo de una autopista, pasan en promedio 2 camiones cada 5 minutos. ¿Cuál es la probabilidad de que en esos 5 minutos pasen más de 2 camiones? \n",
    "* ..."
   ]
  },
  {
   "cell_type": "code",
   "execution_count": 6,
   "metadata": {},
   "outputs": [],
   "source": [
    "from math import e,factorial\n",
    "def probabilidad_poisson(lamba_np,x):\n",
    "     probabilidad = (pow(e,-lamba_np) * pow(lamba_np,x))/factorial(x)\n",
    "     return probabilidad\n",
    "     "
   ]
  },
  {
   "cell_type": "code",
   "execution_count": 7,
   "metadata": {},
   "outputs": [
    {
     "name": "stdout",
     "output_type": "stream",
     "text": [
      "0.006737946999085469\n"
     ]
    }
   ],
   "source": [
    "a = probabilidad_poisson(5,0)\n",
    "print(a)"
   ]
  },
  {
   "cell_type": "code",
   "execution_count": 8,
   "metadata": {},
   "outputs": [
    {
     "name": "stdout",
     "output_type": "stream",
     "text": [
      "0.033689734995427344\n"
     ]
    }
   ],
   "source": [
    "b = probabilidad_poisson(5,1)\n",
    "print(b)"
   ]
  },
  {
   "cell_type": "code",
   "execution_count": 9,
   "metadata": {},
   "outputs": [
    {
     "name": "stdout",
     "output_type": "stream",
     "text": [
      "0.08422433748856836\n"
     ]
    }
   ],
   "source": [
    "c = probabilidad_poisson(5,2)\n",
    "print(c)"
   ]
  },
  {
   "cell_type": "code",
   "execution_count": 10,
   "metadata": {},
   "outputs": [
    {
     "name": "stdout",
     "output_type": "stream",
     "text": [
      "0.8753479805169189\n"
     ]
    }
   ],
   "source": [
    "d = a+b+c\n",
    "print(1-d)"
   ]
  },
  {
   "cell_type": "markdown",
   "metadata": {},
   "source": [
    "---"
   ]
  },
  {
   "cell_type": "markdown",
   "metadata": {},
   "source": [
    "20. En una ciudad, la probabilidad de lluvia cualquier día, es de 0.2, ¿cuál es la probabilidad de que en esa ciudad, llueva durante 2 días seguidos? \n",
    "* 0.04"
   ]
  },
  {
   "cell_type": "code",
   "execution_count": 22,
   "metadata": {},
   "outputs": [
    {
     "name": "stdout",
     "output_type": "stream",
     "text": [
      "0.04000000000000001\n"
     ]
    }
   ],
   "source": [
    "a=.2/1\n",
    "b=a*a\n",
    "print(b)"
   ]
  }
 ],
 "metadata": {
  "kernelspec": {
   "display_name": "Python 3.10.7 64-bit",
   "language": "python",
   "name": "python3"
  },
  "language_info": {
   "codemirror_mode": {
    "name": "ipython",
    "version": 3
   },
   "file_extension": ".py",
   "mimetype": "text/x-python",
   "name": "python",
   "nbconvert_exporter": "python",
   "pygments_lexer": "ipython3",
   "version": "3.10.7"
  },
  "orig_nbformat": 4,
  "vscode": {
   "interpreter": {
    "hash": "0d8f62de8d159179b6c7667a4d5d4ef6210275a6b2f6b808206464195fd50fc9"
   }
  }
 },
 "nbformat": 4,
 "nbformat_minor": 2
}
