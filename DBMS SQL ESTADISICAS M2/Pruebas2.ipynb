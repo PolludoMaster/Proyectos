{
 "cells": [
  {
   "cell_type": "markdown",
   "metadata": {},
   "source": [
    "\n",
    "![Ejercicio](../_src/assets/ejercicio3.PNG)\n",
    "\n",
    "- a) ¿Qué metodo cree que se utilizo para asignar probabilidades?.\n",
    "- b) Construya un cuadro similar, pero con la asignación de probabilidades.\n",
    "- c) ¿Cuál sería el mejor método pára estimar la probabilidad de que en Estados Unidos un conductor lleve puesto el cinturón?.\n",
    "- d) Un año antes, la probabilidad en Argentina de que un conductor llevara puesto el cinturón era 0.75. El director de ANSV, se esperaba que la probabilidad llegara a 0.78. ¿Estará satisfecho con los resultados del estudio? (Utilizar tabla adjunta (![Ejercicio](../_src/assets/ejercicio3.PNG))\n",
    "- e) ¿Cuál es la probabilidad de que se use el cinturón en las distintas regiones del país? ¿En qué región se usa más el cinturón?(Utilizar misma tabla que el ejercicio anterior).\n",
    "\n",
    "## Desafíos complementarios \n",
    "\n",
    "### Investiga e intenta resolver los siguientes ejercicios\n",
    "\n",
    "1. Si la probabilidad de que un cliente pague en efectivo (E) es 6/15, con tarjeta de crédito (TD) es 7/15 y con tarjeta de débito (TD) es 2/15. Hallar la probabilidad de que dos clientes sucesivos que pagan sus cuentas lo hagan:<br>\n",
    " a) el primero en efectivo y el segundo con tarjeta de crédito.<br>\n",
    " b) Los dos clientes en efectivo<br>\n",
    "2. La probabilidad de que un Henry repruebe el M1 de 0.8, de que apruebe M2 es 0.5 y de que repruebe el M3 es de 0.4.<br>\n",
    " (Los eventos no interfieren entre si) <br>\n",
    "\n",
    "![Tabla](../_src/assets/probhenry.PNG)\n",
    "\n",
    "Determinar la probabilidad de que:<br>\n",
    " a) Apruebe un módulo.<br>\n",
    " b) Repruebe las tres materias."
   ]
  },
  {
   "cell_type": "markdown",
   "metadata": {},
   "source": [
    "Utilizando Python cálcular las siguientes probabilidades. Para cada uno intenta determinar que método aplicaste.<br>"
   ]
  },
  {
   "cell_type": "markdown",
   "metadata": {},
   "source": [
    "1. Lanza una moneda al aire 10 veces, ¿cuantos resultados posibles forman parte del espacio muestral?."
   ]
  },
  {
   "cell_type": "code",
   "execution_count": 2,
   "metadata": {},
   "outputs": [],
   "source": [
    "def probabilidadmoneda(numero):\n",
    "    probabilidad = 2**numero\n",
    "    return probabilidad\n"
   ]
  },
  {
   "cell_type": "code",
   "execution_count": 3,
   "metadata": {},
   "outputs": [
    {
     "data": {
      "text/plain": [
       "2048"
      ]
     },
     "execution_count": 3,
     "metadata": {},
     "output_type": "execute_result"
    }
   ],
   "source": [
    "probabilidadmoneda(11)"
   ]
  },
  {
   "cell_type": "markdown",
   "metadata": {},
   "source": [
    "2. En un aeropuerto se tiene a 10 pasajeros esperando en la sala de preembarque, la polícia debe controlar a 3 de ellos. ¿Cuantas combinaciones posibles se pueden obtener?."
   ]
  },
  {
   "cell_type": "code",
   "execution_count": 4,
   "metadata": {},
   "outputs": [],
   "source": [
    "import math\n",
    "\n",
    "def binomial_cooefficient(n: int, k: int):\n",
    "    n_fac = math.factorial(n)\n",
    "    k_fac = math.factorial(k)\n",
    "    n_minus_k_fac = math.factorial(n - k)\n",
    "    permutacion = n_fac / n_minus_k_fac\n",
    "    return n_fac/(k_fac*n_minus_k_fac), permutacion"
   ]
  },
  {
   "cell_type": "code",
   "execution_count": 5,
   "metadata": {},
   "outputs": [
    {
     "data": {
      "text/plain": [
       "(120.0, 720.0)"
      ]
     },
     "execution_count": 5,
     "metadata": {},
     "output_type": "execute_result"
    }
   ],
   "source": [
    "binomial_cooefficient(10,3)"
   ]
  },
  {
   "cell_type": "markdown",
   "metadata": {},
   "source": [
    "3. La Agencia Nacional de Seguridad Vial realizó una investigación para saber si los conductores de están usando sus cinturones de seguridad. Los datos muestrales fueron los siguientes:<br>\n",
    "Conductores que emplean el cinturón <br>"
   ]
  },
  {
   "cell_type": "markdown",
   "metadata": {},
   "source": [
    "4. Crear una funcion que permita calcular a probabilidad de los siguientes eventos en un baraja de 52 cartas.<br>\n",
    "- Obtener una carta roja.<br>\n",
    "- Obtener una carta negra.<br>\n",
    "- Obtener una pica.<br>\n",
    "- Obtener un trébol.<br>\n",
    "- Obtener un corazón.<br>\n",
    "- Obtener un diamante.<br>"
   ]
  },
  {
   "cell_type": "code",
   "execution_count": 6,
   "metadata": {},
   "outputs": [
    {
     "name": "stdout",
     "output_type": "stream",
     "text": [
      "0.5\n",
      "0.25\n"
     ]
    }
   ],
   "source": [
    "import itertools\n",
    "from collections import Counter\n",
    "cartas= ['A', '2', '3', '4', '5', '6', '7', '8', '9', '10', 'J', 'Q', 'K']\n",
    "categorias=['Spade','Heart','Diamond','Club']\n",
    "deck = list(itertools.product(['A', '2', '3', '4', '5', '6', '7', '8', '9', '10', 'J', 'Q', 'K'],['Spade','Heart','Diamond','Club']))\n",
    "total=len(deck)\n",
    "colores = (len(categorias)/2)\n",
    "totalcategorias = (len(categorias))\n",
    "totalcartas = (len(cartas))\n",
    "print(colores/totalcategorias)\n",
    "print(totalcartas/total)"
   ]
  },
  {
   "cell_type": "markdown",
   "metadata": {},
   "source": [
    "5. La probabilidad de que salga un 7 o un 8 al seleccionar una carta de una baraja de las 52 cartas que contiene el mazo. <br>"
   ]
  },
  {
   "cell_type": "code",
   "execution_count": 7,
   "metadata": {},
   "outputs": [
    {
     "name": "stdout",
     "output_type": "stream",
     "text": [
      "0.15384615384615385\n"
     ]
    }
   ],
   "source": [
    "count = 0\n",
    "for i,n in deck:\n",
    "    if i == '7':\n",
    "        count += 1\n",
    "\n",
    "count1 = 0\n",
    "for i,n in deck:\n",
    "    if i == '8':\n",
    "        count1 += 1\n",
    "\n",
    "probabilidadde7 = count/total\n",
    "probabilidadde8 = count1/total\n",
    "probabilidaddemas = probabilidadde7 + probabilidadde8\n",
    "print(probabilidaddemas)"
   ]
  },
  {
   "cell_type": "markdown",
   "metadata": {},
   "source": [
    "6. La probabilidad de tu país gane el mundial de fútbol.<br>"
   ]
  },
  {
   "cell_type": "code",
   "execution_count": 8,
   "metadata": {},
   "outputs": [
    {
     "data": {
      "text/plain": [
       "0.03125"
      ]
     },
     "execution_count": 8,
     "metadata": {},
     "output_type": "execute_result"
    }
   ],
   "source": [
    "1/32"
   ]
  },
  {
   "cell_type": "markdown",
   "metadata": {},
   "source": [
    "7. Un experimento que tiene tres resultados es repetido 50 veces y se ve que E1 aparece 20 veces, E2 13 veces y E3 17 veces. Asigne probabilidades a los resultados.<br>"
   ]
  },
  {
   "cell_type": "code",
   "execution_count": 9,
   "metadata": {},
   "outputs": [
    {
     "name": "stdout",
     "output_type": "stream",
     "text": [
      "0.4\n",
      "0.26\n",
      "0.34\n"
     ]
    }
   ],
   "source": [
    "\n",
    "E1 = 20\n",
    "E2 = 13\n",
    "E3 = 17\n",
    "Total = 50\n",
    "print(E1/Total)\n",
    "print(E2/Total)\n",
    "print(E3/Total)"
   ]
  },
  {
   "cell_type": "markdown",
   "metadata": {},
   "source": [
    "## Desafíos complementarios \n",
    "\n",
    "### Investiga e intenta resolver los siguientes ejercicios\n",
    "\n",
    "\n",
    "2. La probabilidad de que un Henry repruebe el M1 de 0.8, de que apruebe M2 es 0.5 y de que repruebe el M3 es de 0.4.<br>\n",
    " (Los eventos no interfieren entre si) <br>\n",
    "\n",
    "![Tabla](../_src/assets/probhenry.PNG)\n",
    "\n",
    "Determinar la probabilidad de que:<br>\n",
    " a) Apruebe un módulo.<br>\n",
    " b) Repruebe las tres materias."
   ]
  },
  {
   "cell_type": "markdown",
   "metadata": {},
   "source": [
    "1. Si la probabilidad de que un cliente pague en efectivo (E) es 6/15, con tarjeta de crédito (TD) es 7/15 y con tarjeta de débito (TD) es 2/15. Hallar la probabilidad de que dos clientes sucesivos que pagan sus cuentas lo hagan:<br>\n"
   ]
  },
  {
   "cell_type": "code",
   "execution_count": 3,
   "metadata": {},
   "outputs": [
    {
     "name": "stdout",
     "output_type": "stream",
     "text": [
      "0.4\n",
      "0.4666666666666667\n",
      "0.13333333333333333\n",
      "0.04977777777777778\n"
     ]
    }
   ],
   "source": [
    "a=6/15\n",
    "print(a)\n",
    "b=7/15\n",
    "print(b)\n",
    "c=2/15\n",
    "print(c)\n",
    "d=a*b*c\n",
    "d = d + d\n",
    "print(d)"
   ]
  },
  {
   "cell_type": "markdown",
   "metadata": {},
   "source": [
    "a) el primero en efectivo y el segundo con tarjeta de crédito.<br>"
   ]
  },
  {
   "cell_type": "code",
   "execution_count": 1,
   "metadata": {},
   "outputs": [
    {
     "name": "stdout",
     "output_type": "stream",
     "text": [
      "0.4\n",
      "0.5\n",
      "0.4\n"
     ]
    }
   ],
   "source": [
    "a=6/15\n",
    "print(a)\n",
    "b=7/14\n",
    "print(b)\n",
    "c = (a*b) + (a*b)\n",
    "print(c)"
   ]
  },
  {
   "cell_type": "markdown",
   "metadata": {},
   "source": [
    " b) Los dos clientes en efectivo<br>"
   ]
  },
  {
   "cell_type": "code",
   "execution_count": 9,
   "metadata": {},
   "outputs": [
    {
     "name": "stdout",
     "output_type": "stream",
     "text": [
      "0.4\n",
      "0.32000000000000006\n"
     ]
    }
   ],
   "source": [
    "a=6/15\n",
    "print(a)\n",
    "b= (a*a) + (a*a)\n",
    "print(b)"
   ]
  }
 ],
 "metadata": {
  "kernelspec": {
   "display_name": "Python 3.10.7 64-bit",
   "language": "python",
   "name": "python3"
  },
  "language_info": {
   "codemirror_mode": {
    "name": "ipython",
    "version": 3
   },
   "file_extension": ".py",
   "mimetype": "text/x-python",
   "name": "python",
   "nbconvert_exporter": "python",
   "pygments_lexer": "ipython3",
   "version": "3.10.7"
  },
  "orig_nbformat": 4,
  "vscode": {
   "interpreter": {
    "hash": "0d8f62de8d159179b6c7667a4d5d4ef6210275a6b2f6b808206464195fd50fc9"
   }
  }
 },
 "nbformat": 4,
 "nbformat_minor": 2
}
