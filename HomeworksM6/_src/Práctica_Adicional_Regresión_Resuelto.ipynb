{
 "cells": [
  {
   "cell_type": "markdown",
   "id": "bf910830-4551-411d-9302-f895ac866c42",
   "metadata": {},
   "source": [
    "Se requiere de un modelo que proponga un valor de cantidad de unidades de compra para cada producto. Deberás tener en cuenta que es tan importante poder encontrar el modelo como también explicar como lograste obtenerlo."
   ]
  },
  {
   "cell_type": "code",
   "execution_count": 8,
   "id": "87902f29-3d06-4a5c-8cb6-6e8ff1837abf",
   "metadata": {},
   "outputs": [],
   "source": [
    "import pandas as pd\n",
    "import matplotlib.pyplot as plt\n",
    "import seaborn as sns\n",
    "import numpy as np\n",
    "sns.set()"
   ]
  },
  {
   "cell_type": "code",
   "execution_count": 9,
   "id": "a66f0490-63e2-4463-a25f-5cdf2db82a96",
   "metadata": {},
   "outputs": [],
   "source": [
    "from IPython.display import clear_output"
   ]
  },
  {
   "cell_type": "code",
   "execution_count": 10,
   "id": "ef5760d6-24cd-4080-b289-f318587c2a63",
   "metadata": {},
   "outputs": [],
   "source": [
    "df_compra = pd.read_csv(\"Compra.csv\", sep=\",\", parse_dates=[\"Fecha\"])"
   ]
  },
  {
   "cell_type": "code",
   "execution_count": 11,
   "id": "3e3cfdfe-ba6e-40e5-a15d-367991680314",
   "metadata": {
    "tags": []
   },
   "outputs": [
    {
     "name": "stdout",
     "output_type": "stream",
     "text": [
      "<class 'pandas.core.frame.DataFrame'>\n",
      "RangeIndex: 11539 entries, 0 to 11538\n",
      "Data columns (total 9 columns):\n",
      " #   Column         Non-Null Count  Dtype         \n",
      "---  ------         --------------  -----         \n",
      " 0   IdCompra       11539 non-null  int64         \n",
      " 1   Fecha          11539 non-null  datetime64[ns]\n",
      " 2   Fecha_Año      11539 non-null  int64         \n",
      " 3   Fecha_Mes      11539 non-null  int64         \n",
      " 4   Fecha_Periodo  11539 non-null  int64         \n",
      " 5   IdProducto     11539 non-null  int64         \n",
      " 6   Cantidad       11539 non-null  int64         \n",
      " 7   Precio         11172 non-null  float64       \n",
      " 8   IdProveedor    11539 non-null  int64         \n",
      "dtypes: datetime64[ns](1), float64(1), int64(7)\n",
      "memory usage: 811.5 KB\n"
     ]
    }
   ],
   "source": [
    "df_compra.info()"
   ]
  },
  {
   "cell_type": "code",
   "execution_count": 12,
   "id": "d3e21e4e-ff8c-49da-b16e-53b9d0ff58c8",
   "metadata": {},
   "outputs": [
    {
     "data": {
      "text/plain": [
       "(11539, 9)"
      ]
     },
     "execution_count": 12,
     "metadata": {},
     "output_type": "execute_result"
    }
   ],
   "source": [
    "df_compra.shape"
   ]
  },
  {
   "cell_type": "markdown",
   "id": "1d636b38-a440-45d1-861f-884eb8b37aa7",
   "metadata": {},
   "source": [
    "Nos quedamos con los campos que vamos a utilizar"
   ]
  },
  {
   "cell_type": "code",
   "execution_count": 13,
   "id": "6de63c73-43b6-483f-80e5-1259f9f0890f",
   "metadata": {},
   "outputs": [],
   "source": [
    "df_compra = df_compra[['Fecha','IdProducto','Cantidad','Fecha_Año','Fecha_Mes','Fecha_Periodo']]"
   ]
  },
  {
   "cell_type": "code",
   "execution_count": 14,
   "id": "92c63c91-0194-42dc-bf37-328a8634af4c",
   "metadata": {},
   "outputs": [],
   "source": [
    "df_compra.sort_values(['IdProducto','Fecha'], inplace = True)"
   ]
  },
  {
   "cell_type": "code",
   "execution_count": 15,
   "id": "d82bf484-4b2a-406b-9bda-f8b96ada3807",
   "metadata": {},
   "outputs": [
    {
     "data": {
      "text/html": [
       "<div>\n",
       "<style scoped>\n",
       "    .dataframe tbody tr th:only-of-type {\n",
       "        vertical-align: middle;\n",
       "    }\n",
       "\n",
       "    .dataframe tbody tr th {\n",
       "        vertical-align: top;\n",
       "    }\n",
       "\n",
       "    .dataframe thead th {\n",
       "        text-align: right;\n",
       "    }\n",
       "</style>\n",
       "<table border=\"1\" class=\"dataframe\">\n",
       "  <thead>\n",
       "    <tr style=\"text-align: right;\">\n",
       "      <th></th>\n",
       "      <th>Fecha</th>\n",
       "      <th>IdProducto</th>\n",
       "      <th>Cantidad</th>\n",
       "      <th>Fecha_Año</th>\n",
       "      <th>Fecha_Mes</th>\n",
       "      <th>Fecha_Periodo</th>\n",
       "    </tr>\n",
       "  </thead>\n",
       "  <tbody>\n",
       "    <tr>\n",
       "      <th>0</th>\n",
       "      <td>2015-01-30</td>\n",
       "      <td>42737</td>\n",
       "      <td>2</td>\n",
       "      <td>2015</td>\n",
       "      <td>1</td>\n",
       "      <td>201501</td>\n",
       "    </tr>\n",
       "    <tr>\n",
       "      <th>1</th>\n",
       "      <td>2015-05-29</td>\n",
       "      <td>42737</td>\n",
       "      <td>8</td>\n",
       "      <td>2015</td>\n",
       "      <td>5</td>\n",
       "      <td>201505</td>\n",
       "    </tr>\n",
       "    <tr>\n",
       "      <th>2</th>\n",
       "      <td>2015-06-26</td>\n",
       "      <td>42737</td>\n",
       "      <td>9</td>\n",
       "      <td>2015</td>\n",
       "      <td>6</td>\n",
       "      <td>201506</td>\n",
       "    </tr>\n",
       "    <tr>\n",
       "      <th>3</th>\n",
       "      <td>2015-07-31</td>\n",
       "      <td>42737</td>\n",
       "      <td>5</td>\n",
       "      <td>2015</td>\n",
       "      <td>7</td>\n",
       "      <td>201507</td>\n",
       "    </tr>\n",
       "    <tr>\n",
       "      <th>4</th>\n",
       "      <td>2015-08-28</td>\n",
       "      <td>42737</td>\n",
       "      <td>10</td>\n",
       "      <td>2015</td>\n",
       "      <td>8</td>\n",
       "      <td>201508</td>\n",
       "    </tr>\n",
       "  </tbody>\n",
       "</table>\n",
       "</div>"
      ],
      "text/plain": [
       "       Fecha  IdProducto  Cantidad  Fecha_Año  Fecha_Mes  Fecha_Periodo\n",
       "0 2015-01-30       42737         2       2015          1         201501\n",
       "1 2015-05-29       42737         8       2015          5         201505\n",
       "2 2015-06-26       42737         9       2015          6         201506\n",
       "3 2015-07-31       42737         5       2015          7         201507\n",
       "4 2015-08-28       42737        10       2015          8         201508"
      ]
     },
     "execution_count": 15,
     "metadata": {},
     "output_type": "execute_result"
    }
   ],
   "source": [
    "df_compra.reset_index(inplace = True, drop  = True)\n",
    "df_compra.head()"
   ]
  },
  {
   "cell_type": "markdown",
   "id": "a2dbd901-d604-4b49-890f-5a136fe72a7c",
   "metadata": {},
   "source": [
    "Visualizamos el comportamiento de los datos de un único producto aleatorio"
   ]
  },
  {
   "cell_type": "code",
   "execution_count": 16,
   "id": "07d2153f-9a4f-498b-b625-c7bccf422988",
   "metadata": {},
   "outputs": [
    {
     "data": {
      "image/png": "[encoded data removed]",
      "text/plain": [
       "<Figure size 1000x800 with 1 Axes>"
      ]
     },
     "metadata": {},
     "output_type": "display_data"
    }
   ],
   "source": [
    "plt.figure(figsize = (10,8))\n",
    "sns.lineplot(x = 'Fecha', y = 'Cantidad', data = df_compra[df_compra.IdProducto == 42880], hue = 'IdProducto')\n",
    "plt.show()"
   ]
  },
  {
   "cell_type": "markdown",
   "id": "10a1213b-2857-40d8-9d22-c245366d5fd9",
   "metadata": {},
   "source": [
    "Convertimos el campos Fecha a un valor numérico para utilizarlo como input al modelo de regresión"
   ]
  },
  {
   "cell_type": "code",
   "execution_count": 17,
   "id": "a6e08fe6-5ded-4b80-b418-a0cdf556d995",
   "metadata": {},
   "outputs": [
    {
     "data": {
      "text/html": [
       "<div>\n",
       "<style scoped>\n",
       "    .dataframe tbody tr th:only-of-type {\n",
       "        vertical-align: middle;\n",
       "    }\n",
       "\n",
       "    .dataframe tbody tr th {\n",
       "        vertical-align: top;\n",
       "    }\n",
       "\n",
       "    .dataframe thead th {\n",
       "        text-align: right;\n",
       "    }\n",
       "</style>\n",
       "<table border=\"1\" class=\"dataframe\">\n",
       "  <thead>\n",
       "    <tr style=\"text-align: right;\">\n",
       "      <th></th>\n",
       "      <th>Fecha</th>\n",
       "      <th>IdProducto</th>\n",
       "      <th>Cantidad</th>\n",
       "      <th>Fecha_Año</th>\n",
       "      <th>Fecha_Mes</th>\n",
       "      <th>Fecha_Periodo</th>\n",
       "      <th>Fecha_Numerico</th>\n",
       "    </tr>\n",
       "  </thead>\n",
       "  <tbody>\n",
       "    <tr>\n",
       "      <th>0</th>\n",
       "      <td>2015-01-30</td>\n",
       "      <td>42737</td>\n",
       "      <td>2</td>\n",
       "      <td>2015</td>\n",
       "      <td>1</td>\n",
       "      <td>201501</td>\n",
       "      <td>735628</td>\n",
       "    </tr>\n",
       "    <tr>\n",
       "      <th>1</th>\n",
       "      <td>2015-05-29</td>\n",
       "      <td>42737</td>\n",
       "      <td>8</td>\n",
       "      <td>2015</td>\n",
       "      <td>5</td>\n",
       "      <td>201505</td>\n",
       "      <td>735747</td>\n",
       "    </tr>\n",
       "    <tr>\n",
       "      <th>2</th>\n",
       "      <td>2015-06-26</td>\n",
       "      <td>42737</td>\n",
       "      <td>9</td>\n",
       "      <td>2015</td>\n",
       "      <td>6</td>\n",
       "      <td>201506</td>\n",
       "      <td>735775</td>\n",
       "    </tr>\n",
       "    <tr>\n",
       "      <th>3</th>\n",
       "      <td>2015-07-31</td>\n",
       "      <td>42737</td>\n",
       "      <td>5</td>\n",
       "      <td>2015</td>\n",
       "      <td>7</td>\n",
       "      <td>201507</td>\n",
       "      <td>735810</td>\n",
       "    </tr>\n",
       "    <tr>\n",
       "      <th>4</th>\n",
       "      <td>2015-08-28</td>\n",
       "      <td>42737</td>\n",
       "      <td>10</td>\n",
       "      <td>2015</td>\n",
       "      <td>8</td>\n",
       "      <td>201508</td>\n",
       "      <td>735838</td>\n",
       "    </tr>\n",
       "  </tbody>\n",
       "</table>\n",
       "</div>"
      ],
      "text/plain": [
       "       Fecha  IdProducto  Cantidad  Fecha_Año  Fecha_Mes  Fecha_Periodo  \\\n",
       "0 2015-01-30       42737         2       2015          1         201501   \n",
       "1 2015-05-29       42737         8       2015          5         201505   \n",
       "2 2015-06-26       42737         9       2015          6         201506   \n",
       "3 2015-07-31       42737         5       2015          7         201507   \n",
       "4 2015-08-28       42737        10       2015          8         201508   \n",
       "\n",
       "   Fecha_Numerico  \n",
       "0          735628  \n",
       "1          735747  \n",
       "2          735775  \n",
       "3          735810  \n",
       "4          735838  "
      ]
     },
     "execution_count": 17,
     "metadata": {},
     "output_type": "execute_result"
    }
   ],
   "source": [
    "import datetime as dt\n",
    "df_compra['Fecha_Numerico']=df_compra['Fecha'].map(dt.datetime.toordinal)\n",
    "df_compra.head()"
   ]
  },
  {
   "cell_type": "code",
   "execution_count": 18,
   "id": "0e9ae409-f5fe-4ca4-b9c0-c5da60224cd6",
   "metadata": {},
   "outputs": [],
   "source": [
    "x = df_compra[(df_compra.IdProducto == 42880) & (df_compra.Fecha_Año == 2020)].Fecha_Numerico\n",
    "y = df_compra[(df_compra.IdProducto == 42880) & (df_compra.Fecha_Año == 2020)].Cantidad"
   ]
  },
  {
   "cell_type": "code",
   "execution_count": 19,
   "id": "1c69c86e-0cac-4153-a5ec-1fe5e9cedebd",
   "metadata": {},
   "outputs": [
    {
     "data": {
      "image/png": "[encoded data removed]",
      "text/plain": [
       "<Figure size 640x480 with 1 Axes>"
      ]
     },
     "metadata": {},
     "output_type": "display_data"
    }
   ],
   "source": [
    "# Ploteamos\n",
    "plt.scatter(x, y)\n",
    "plt.show()"
   ]
  },
  {
   "cell_type": "code",
   "execution_count": 20,
   "id": "1b358dd6-ac35-415d-8b63-b6da6ad32db8",
   "metadata": {},
   "outputs": [
    {
     "data": {
      "text/html": [
       "<div>\n",
       "<style scoped>\n",
       "    .dataframe tbody tr th:only-of-type {\n",
       "        vertical-align: middle;\n",
       "    }\n",
       "\n",
       "    .dataframe tbody tr th {\n",
       "        vertical-align: top;\n",
       "    }\n",
       "\n",
       "    .dataframe thead th {\n",
       "        text-align: right;\n",
       "    }\n",
       "</style>\n",
       "<table border=\"1\" class=\"dataframe\">\n",
       "  <thead>\n",
       "    <tr style=\"text-align: right;\">\n",
       "      <th></th>\n",
       "      <th>Fecha_Numerico</th>\n",
       "      <th>Cantidad</th>\n",
       "    </tr>\n",
       "  </thead>\n",
       "  <tbody>\n",
       "    <tr>\n",
       "      <th>Fecha_Numerico</th>\n",
       "      <td>1.000000</td>\n",
       "      <td>-0.039009</td>\n",
       "    </tr>\n",
       "    <tr>\n",
       "      <th>Cantidad</th>\n",
       "      <td>-0.039009</td>\n",
       "      <td>1.000000</td>\n",
       "    </tr>\n",
       "  </tbody>\n",
       "</table>\n",
       "</div>"
      ],
      "text/plain": [
       "                Fecha_Numerico  Cantidad\n",
       "Fecha_Numerico        1.000000 -0.039009\n",
       "Cantidad             -0.039009  1.000000"
      ]
     },
     "execution_count": 20,
     "metadata": {},
     "output_type": "execute_result"
    }
   ],
   "source": [
    "df_compra[(df_compra.IdProducto == 42880)][['Fecha_Numerico','Cantidad']].corr()"
   ]
  },
  {
   "cell_type": "code",
   "execution_count": 21,
   "id": "0b478297-69e8-4baf-8175-34858065db4a",
   "metadata": {
    "tags": []
   },
   "outputs": [
    {
     "data": {
      "text/html": [
       "<div>\n",
       "<style scoped>\n",
       "    .dataframe tbody tr th:only-of-type {\n",
       "        vertical-align: middle;\n",
       "    }\n",
       "\n",
       "    .dataframe tbody tr th {\n",
       "        vertical-align: top;\n",
       "    }\n",
       "\n",
       "    .dataframe thead th {\n",
       "        text-align: right;\n",
       "    }\n",
       "</style>\n",
       "<table border=\"1\" class=\"dataframe\">\n",
       "  <thead>\n",
       "    <tr style=\"text-align: right;\">\n",
       "      <th></th>\n",
       "      <th>Fecha_Numerico</th>\n",
       "      <th>Cantidad</th>\n",
       "    </tr>\n",
       "  </thead>\n",
       "  <tbody>\n",
       "    <tr>\n",
       "      <th>Fecha_Numerico</th>\n",
       "      <td>1.000000</td>\n",
       "      <td>-0.237111</td>\n",
       "    </tr>\n",
       "    <tr>\n",
       "      <th>Cantidad</th>\n",
       "      <td>-0.237111</td>\n",
       "      <td>1.000000</td>\n",
       "    </tr>\n",
       "  </tbody>\n",
       "</table>\n",
       "</div>"
      ],
      "text/plain": [
       "                Fecha_Numerico  Cantidad\n",
       "Fecha_Numerico        1.000000 -0.237111\n",
       "Cantidad             -0.237111  1.000000"
      ]
     },
     "execution_count": 21,
     "metadata": {},
     "output_type": "execute_result"
    }
   ],
   "source": [
    "df_compra[(df_compra.IdProducto == 42880) & (df_compra.Fecha_Año >= 2020)][['Fecha_Numerico','Cantidad']].corr()"
   ]
  },
  {
   "cell_type": "code",
   "execution_count": 22,
   "id": "abb7046c-3ffa-4df5-83e5-750c3908ac4b",
   "metadata": {},
   "outputs": [],
   "source": [
    "from sklearn.linear_model import LinearRegression"
   ]
  },
  {
   "cell_type": "markdown",
   "id": "8e7782b8-5924-4cee-a062-0f850ba79f72",
   "metadata": {},
   "source": [
    "La separación entre los datos de entrenamiento y prueba, lo hacemos en base a períodos"
   ]
  },
  {
   "cell_type": "code",
   "execution_count": 23,
   "id": "d0400cce-3b16-4f20-8089-a33b35b4837e",
   "metadata": {},
   "outputs": [],
   "source": [
    "X_train = df_compra[(df_compra.IdProducto == 42880) & (df_compra.Fecha_Periodo >= 201901) & (df_compra.Fecha_Periodo < 202008)].Fecha_Numerico.values\n",
    "y_train = df_compra[(df_compra.IdProducto == 42880) & (df_compra.Fecha_Periodo >= 201901) & (df_compra.Fecha_Periodo < 202008)].Cantidad.values\n",
    "X_test = df_compra[(df_compra.IdProducto == 42880) & (df_compra.Fecha_Periodo >= 202008)].Fecha_Numerico.values\n",
    "y_test = df_compra[(df_compra.IdProducto == 42880) & (df_compra.Fecha_Periodo >= 202008)].Cantidad.values"
   ]
  },
  {
   "cell_type": "code",
   "execution_count": 24,
   "id": "fd1e868d-9732-44bb-88e5-e2e199597165",
   "metadata": {},
   "outputs": [],
   "source": [
    "X_train = X_train.reshape(-1,1)\n",
    "X_test = X_test.reshape(-1,1)"
   ]
  },
  {
   "cell_type": "code",
   "execution_count": 25,
   "id": "a3466fb3-9491-4037-b125-dfc3bda6d9d7",
   "metadata": {},
   "outputs": [],
   "source": [
    "#from sklearn.model_selection import train_test_split\n",
    "#X_train, X_test, y_train, y_test = train_test_split(X, y, test_size=0.2, random_state=42)"
   ]
  },
  {
   "cell_type": "code",
   "execution_count": 26,
   "id": "bd7efd41-54c8-4ae3-a012-fd246f33a914",
   "metadata": {},
   "outputs": [],
   "source": [
    "modelo = LinearRegression(fit_intercept=True)"
   ]
  },
  {
   "cell_type": "code",
   "execution_count": 27,
   "id": "4d0ad8b0-8d55-460e-aebf-f5e1fb730b86",
   "metadata": {},
   "outputs": [
    {
     "data": {
      "text/html": [
       "<style>#sk-container-id-1 {color: black;background-color: white;}#sk-container-id-1 pre{padding: 0;}#sk-container-id-1 div.sk-toggleable {background-color: white;}#sk-container-id-1 label.sk-toggleable__label {cursor: pointer;display: block;width: 100%;margin-bottom: 0;padding: 0.3em;box-sizing: border-box;text-align: center;}#sk-container-id-1 label.sk-toggleable__label-arrow:before {content: \"▸\";float: left;margin-right: 0.25em;color: #696969;}#sk-container-id-1 label.sk-toggleable__label-arrow:hover:before {color: black;}#sk-container-id-1 div.sk-estimator:hover label.sk-toggleable__label-arrow:before {color: black;}#sk-container-id-1 div.sk-toggleable__content {max-height: 0;max-width: 0;overflow: hidden;text-align: left;background-color: #f0f8ff;}#sk-container-id-1 div.sk-toggleable__content pre {margin: 0.2em;color: black;border-radius: 0.25em;background-color: #f0f8ff;}#sk-container-id-1 input.sk-toggleable__control:checked~div.sk-toggleable__content {max-height: 200px;max-width: 100%;overflow: auto;}#sk-container-id-1 input.sk-toggleable__control:checked~label.sk-toggleable__label-arrow:before {content: \"▾\";}#sk-container-id-1 div.sk-estimator input.sk-toggleable__control:checked~label.sk-toggleable__label {background-color: #d4ebff;}#sk-container-id-1 div.sk-label input.sk-toggleable__control:checked~label.sk-toggleable__label {background-color: #d4ebff;}#sk-container-id-1 input.sk-hidden--visually {border: 0;clip: rect(1px 1px 1px 1px);clip: rect(1px, 1px, 1px, 1px);height: 1px;margin: -1px;overflow: hidden;padding: 0;position: absolute;width: 1px;}#sk-container-id-1 div.sk-estimator {font-family: monospace;background-color: #f0f8ff;border: 1px dotted black;border-radius: 0.25em;box-sizing: border-box;margin-bottom: 0.5em;}#sk-container-id-1 div.sk-estimator:hover {background-color: #d4ebff;}#sk-container-id-1 div.sk-parallel-item::after {content: \"\";width: 100%;border-bottom: 1px solid gray;flex-grow: 1;}#sk-container-id-1 div.sk-label:hover label.sk-toggleable__label {background-color: #d4ebff;}#sk-container-id-1 div.sk-serial::before {content: \"\";position: absolute;border-left: 1px solid gray;box-sizing: border-box;top: 0;bottom: 0;left: 50%;z-index: 0;}#sk-container-id-1 div.sk-serial {display: flex;flex-direction: column;align-items: center;background-color: white;padding-right: 0.2em;padding-left: 0.2em;position: relative;}#sk-container-id-1 div.sk-item {position: relative;z-index: 1;}#sk-container-id-1 div.sk-parallel {display: flex;align-items: stretch;justify-content: center;background-color: white;position: relative;}#sk-container-id-1 div.sk-item::before, #sk-container-id-1 div.sk-parallel-item::before {content: \"\";position: absolute;border-left: 1px solid gray;box-sizing: border-box;top: 0;bottom: 0;left: 50%;z-index: -1;}#sk-container-id-1 div.sk-parallel-item {display: flex;flex-direction: column;z-index: 1;position: relative;background-color: white;}#sk-container-id-1 div.sk-parallel-item:first-child::after {align-self: flex-end;width: 50%;}#sk-container-id-1 div.sk-parallel-item:last-child::after {align-self: flex-start;width: 50%;}#sk-container-id-1 div.sk-parallel-item:only-child::after {width: 0;}#sk-container-id-1 div.sk-dashed-wrapped {border: 1px dashed gray;margin: 0 0.4em 0.5em 0.4em;box-sizing: border-box;padding-bottom: 0.4em;background-color: white;}#sk-container-id-1 div.sk-label label {font-family: monospace;font-weight: bold;display: inline-block;line-height: 1.2em;}#sk-container-id-1 div.sk-label-container {text-align: center;}#sk-container-id-1 div.sk-container {/* jupyter's `normalize.less` sets `[hidden] { display: none; }` but bootstrap.min.css set `[hidden] { display: none !important; }` so we also need the `!important` here to be able to override the default hidden behavior on the sphinx rendered scikit-learn.org. See: https://github.com/scikit-learn/scikit-learn/issues/21755 */display: inline-block !important;position: relative;}#sk-container-id-1 div.sk-text-repr-fallback {display: none;}</style><div id=\"sk-container-id-1\" class=\"sk-top-container\"><div class=\"sk-text-repr-fallback\"><pre>LinearRegression()</pre><b>In a Jupyter environment, please rerun this cell to show the HTML representation or trust the notebook. <br />On GitHub, the HTML representation is unable to render, please try loading this page with nbviewer.org.</b></div><div class=\"sk-container\" hidden><div class=\"sk-item\"><div class=\"sk-estimator sk-toggleable\"><input class=\"sk-toggleable__control sk-hidden--visually\" id=\"sk-estimator-id-1\" type=\"checkbox\" checked><label for=\"sk-estimator-id-1\" class=\"sk-toggleable__label sk-toggleable__label-arrow\">LinearRegression</label><div class=\"sk-toggleable__content\"><pre>LinearRegression()</pre></div></div></div></div></div>"
      ],
      "text/plain": [
       "LinearRegression()"
      ]
     },
     "execution_count": 27,
     "metadata": {},
     "output_type": "execute_result"
    }
   ],
   "source": [
    "modelo.fit(X_train, y_train)"
   ]
  },
  {
   "cell_type": "code",
   "execution_count": 28,
   "id": "fca05021-289f-4288-9fe4-69424028a85f",
   "metadata": {},
   "outputs": [
    {
     "data": {
      "text/plain": [
       "array([0.00310931])"
      ]
     },
     "execution_count": 28,
     "metadata": {},
     "output_type": "execute_result"
    }
   ],
   "source": [
    "modelo.coef_"
   ]
  },
  {
   "cell_type": "markdown",
   "id": "f0aa6e8d-f4db-4a7c-bfdf-87a139a70cfe",
   "metadata": {},
   "source": [
    "Evaluamos el error"
   ]
  },
  {
   "cell_type": "code",
   "execution_count": 29,
   "id": "f4668e95-6a0f-47f2-8628-40e2bf2da687",
   "metadata": {},
   "outputs": [
    {
     "name": "stdout",
     "output_type": "stream",
     "text": [
      "Error en datos de train: 19.895193920154927\n",
      "Error en datos de test: 22.934573428342098\n"
     ]
    }
   ],
   "source": [
    "from sklearn.metrics import mean_squared_error\n",
    "y_train_pred = modelo.predict(X_train)\n",
    "y_test_pred = modelo.predict(X_test)\n",
    "print('Error en datos de train:', mean_squared_error(y_train, y_train_pred))\n",
    "print('Error en datos de test:', mean_squared_error(y_test, y_test_pred))"
   ]
  },
  {
   "cell_type": "code",
   "execution_count": 30,
   "id": "169a6823",
   "metadata": {},
   "outputs": [],
   "source": [
    "from sklearn.metrics import r2_score"
   ]
  },
  {
   "cell_type": "code",
   "execution_count": 31,
   "id": "27778903",
   "metadata": {},
   "outputs": [],
   "source": [
    "r2 = r2_score(y_test, y_test_pred)"
   ]
  },
  {
   "cell_type": "code",
   "execution_count": 32,
   "id": "18e6757a",
   "metadata": {},
   "outputs": [
    {
     "name": "stdout",
     "output_type": "stream",
     "text": [
      "El coeficiente de determinación del regresor es: -1.3674398377643455\n"
     ]
    }
   ],
   "source": [
    "print('El coeficiente de determinación del regresor es:', r2)"
   ]
  },
  {
   "cell_type": "markdown",
   "id": "309bb462-4572-4e4c-ae56-471895f06cb0",
   "metadata": {},
   "source": [
    "Graficamos"
   ]
  },
  {
   "cell_type": "code",
   "execution_count": 33,
   "id": "23ff55ea-dbc4-45a2-903d-1f8f09605e72",
   "metadata": {},
   "outputs": [
    {
     "data": {
      "image/png": "[encoded data removed]",
      "text/plain": [
       "<Figure size 1000x800 with 1 Axes>"
      ]
     },
     "metadata": {},
     "output_type": "display_data"
    }
   ],
   "source": [
    "plt.figure(figsize = (10,8))\n",
    "\n",
    "plt.scatter(X_train, y_train,  color='green', label = 'Datos Train')\n",
    "plt.plot(X_train, y_train_pred, color='k', linestyle = '--', label = 'Prediccion Train')\n",
    "\n",
    "plt.scatter(X_test, y_test,  color='red', label = 'Datos Test')\n",
    "plt.plot(X_test, y_test_pred, color='blue', linewidth=5.0, label = 'Prediccion Test')\n",
    "\n",
    "plt.legend()\n",
    "plt.show()"
   ]
  },
  {
   "cell_type": "markdown",
   "id": "6aa6dbff-ec6b-499d-88d3-ba541eea8f1f",
   "metadata": {},
   "source": [
    "Establecemos una fecha real para la cual queremos hacer la predicción y usamos el modelo"
   ]
  },
  {
   "cell_type": "code",
   "execution_count": 34,
   "id": "5e9decbd-d722-43e4-93b8-0791cba575db",
   "metadata": {},
   "outputs": [],
   "source": [
    "from datetime import datetime\n",
    "fecha_prediccion = '2021-01-01'"
   ]
  },
  {
   "cell_type": "code",
   "execution_count": 35,
   "id": "9b16ab6b-ae14-41af-b532-057bb50c9d0d",
   "metadata": {},
   "outputs": [],
   "source": [
    "fecha_prediccion = datetime.strptime(fecha_prediccion, '%Y-%m-%d').date()"
   ]
  },
  {
   "cell_type": "code",
   "execution_count": 36,
   "id": "03fc6bd0-a13e-4c1b-9aed-49d1c7a0cf74",
   "metadata": {},
   "outputs": [],
   "source": [
    "fecha_prediccion = fecha_prediccion.toordinal()\n",
    "#fecha_prediccion = datetime.fromordinal(fecha_prediccion)"
   ]
  },
  {
   "cell_type": "code",
   "execution_count": 37,
   "id": "8b01d8f7-dd42-4c5a-894e-b0166f63d2da",
   "metadata": {},
   "outputs": [],
   "source": [
    "fecha_prediccion = np.array(fecha_prediccion)"
   ]
  },
  {
   "cell_type": "code",
   "execution_count": 38,
   "id": "d1b361c0-8bae-4045-aa70-aaea506d7bb5",
   "metadata": {},
   "outputs": [],
   "source": [
    "fecha_prediccion = fecha_prediccion.reshape(-1,1)"
   ]
  },
  {
   "cell_type": "code",
   "execution_count": 39,
   "id": "c3fb503e-120f-40ef-83d0-30c896f2ae24",
   "metadata": {},
   "outputs": [],
   "source": [
    "cantidad_prediccion = modelo.predict(fecha_prediccion)"
   ]
  },
  {
   "cell_type": "code",
   "execution_count": 40,
   "id": "8e622ed1-469a-469d-ba71-1e46d789fb63",
   "metadata": {},
   "outputs": [
    {
     "name": "stdout",
     "output_type": "stream",
     "text": [
      "La cantidad que se predice es :10.73\n"
     ]
    }
   ],
   "source": [
    "print('La cantidad que se predice es :' + str(round(cantidad_prediccion[0],2)))"
   ]
  }
 ],
 "metadata": {
  "kernelspec": {
   "display_name": "Python 3",
   "language": "python",
   "name": "python3"
  },
  "language_info": {
   "codemirror_mode": {
    "name": "ipython",
    "version": 3
   },
   "file_extension": ".py",
   "mimetype": "text/x-python",
   "name": "python",
   "nbconvert_exporter": "python",
   "pygments_lexer": "ipython3",
   "version": "3.10.7"
  },
  "vscode": {
   "interpreter": {
    "hash": "0d8f62de8d159179b6c7667a4d5d4ef6210275a6b2f6b808206464195fd50fc9"
   }
  }
 },
 "nbformat": 4,
 "nbformat_minor": 5
}
