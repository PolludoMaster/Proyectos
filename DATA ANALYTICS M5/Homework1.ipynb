{
 "cells": [
  {
   "attachments": {},
   "cell_type": "markdown",
   "metadata": {},
   "source": [
    "![HenryLogo](https://d31uz8lwfmyn8g.cloudfront.net/Assets/logo-henry-white-lg.png)\n",
    "\n",
    "## Homework \n",
    "\n",
    "1.\tDesde la gerencia de ventas nos comentan que es necesario aumentar el volumen de facturación y cobertura de regiones ( tener clientes en la mayor cantidad posible de zonas) como también evitar la pérdida de clientes, hoy por hoy se manejan con un Excel que alguien armo en algún momento, pero no confían en esa data para seguir este nuevo objetivo, de manera tal que no se conoce realmente el estado de situación actual. Por lo tanto como departamento de data analytics tenemos que presentarles una propuesta basadas en datos para acompañar este proceso de negocio.\n",
    "- \tEn base al modelo de datos utilizado en M3  generar una un propuesta analítico de cada tipo según lo visto en clase:\n",
    "\n",
    "- a) Descriptivo \n",
    "- b) Dashboard\n",
    "- c) Predictivo\n",
    "- d) Prescriptivo\n",
    "\n",
    "2. Relaciona cada situación con algún tipo de gráfico:\n",
    "- a) Velocidad de frenado promedio de 5 modelos distintos de vehículos.<br>\n",
    "Gráfico de columnas:<br>\n",
    "Eje x = modelos de vehículos.<br>\n",
    "Eje y = Velocidad promedio de frenado.<br>\n",
    "- b) Costo de una llamada por segundos.<br>\n",
    "Gráfico de líneas:\n",
    "Eje x = Csoto de la llamada.<br>\n",
    "Eje y = Segundos de duración.<br>\n",
    "- c) El recorrido del equipo de ventas de una distribuidora con 4 paradas y las sumas vendidas en cada una.<br>\n",
    "Mapa georeferenciado:<br>\n",
    "Latiud y longitud de cada parada.<br>\n",
    "Importe de ventas totales en cada punto.<br>\n",
    "- d) Cantidad de edificios y casas que conforman un barrio.\n",
    "Gráfico circular:<br>\n",
    "Dos categorias.<br>\n",
    "Cantidad total por categoría.<br>\n",
    "\n",
    "3. El siguiente gráfico representa el movimiento vehículo desde un punto. Interprétala y responde a las siguientes preguntas:\n",
    "- a) ¿Cuánto tiempo ha estado andando?. Estuvo andando durante 13 min.\n",
    "- b) ¿Hasta que distancia máxima del recorrido pudo realizar? 80 m. \n",
    "- c) ¿Ha hecho alguna parada? Si duarante 2 min.\n",
    "- d) ¿Que sucede luego del pico de mts recorrido? El vehículo comienza a regresar.\n",
    "- e) ¿Cuantos metros recorrio en total? Recorrio 150 mts.\n",
    "\n",
    "![Ejercicio2](_src\\assets\\ejer2.PNG)\n",
    "\n",
    "4. Se decide presentar el volumen de ventas de 5 productos correspondientes a una distribuidora de alimentos. Los productos van de A = 100 un., B = 95 un., C =90 un., D = 88 un., E = 105 un.\n",
    " - a) ¿Que gráfico utilizaría?. Sería conveniente utilizar un gráfico de barras.\n",
    " - b) ¿Sería correcto utilizar un gráfico de lineas? ¿Por qué?. Los gráficos de línea son recomanedables para representaciones evolutivas y series de tiempo.\n",
    " - c) ¿Sería correcto utilizar un gráfico circular? ¿Por qué?. Los gráficos circulares no son recomendables para más de 3 variables o cuando la diferencia en las magnitudes de cada categoria no es muy notoria. \n",
    " \n",
    "5. Se presenta el siguiente gráfico. \n",
    " - a) ¿Es correcta su utilización? No es correcta la elección del gráfico, se dificulta el reconocimiento de patrones.\n",
    " - b) ¿Que inconveniente presenta a la hora de reconocer patrones? Se dificulta reconocer las magnitudes de las categorías a simple vista.\n",
    " - c) ¿Qué otros tipos de gráficos utilizaría? Se podría utilizar un gráfico de barras ordenado por calificación.\n",
    " - d) ¿Que tipo de tematicas estarían relacionadas a la variable presentada? Podría relacionarse la satisfacción del cliente en general.\n",
    "\n",
    " \n",
    " ![Ejercicio3](_src\\assets\\ejer3.PNG)\n"
   ]
  }
 ],
 "metadata": {
  "kernelspec": {
   "display_name": "Python 3",
   "language": "python",
   "name": "python3"
  },
  "language_info": {
   "name": "python",
   "version": "3.10.7 (tags/v3.10.7:6cc6b13, Sep  5 2022, 14:08:36) [MSC v.1933 64 bit (AMD64)]"
  },
  "orig_nbformat": 4,
  "vscode": {
   "interpreter": {
    "hash": "0d8f62de8d159179b6c7667a4d5d4ef6210275a6b2f6b808206464195fd50fc9"
   }
  }
 },
 "nbformat": 4,
 "nbformat_minor": 2
}
