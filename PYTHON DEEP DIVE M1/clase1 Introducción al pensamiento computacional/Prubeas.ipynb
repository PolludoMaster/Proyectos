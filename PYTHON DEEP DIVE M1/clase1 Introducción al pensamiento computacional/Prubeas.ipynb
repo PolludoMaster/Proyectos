{
 "cells": [
  {
   "cell_type": "code",
   "execution_count": 11,
   "metadata": {},
   "outputs": [
    {
     "name": "stdout",
     "output_type": "stream",
     "text": [
      "011000"
     ]
    }
   ],
   "source": [
    "\n",
    "def DecimalToBinary(num):\n",
    "     \n",
    "    if num >= 1:\n",
    "        DecimalToBinary(num // 2)\n",
    "    print(num % 2, end = '')\n",
    " \n",
    "# Driver Code\n",
    "if __name__ == '__main__':\n",
    "     \n",
    "    # decimal value\n",
    "    dec_val = 24\n",
    "     \n",
    "    # Calling function\n",
    "    DecimalToBinary(dec_val)"
   ]
  },
  {
   "cell_type": "code",
   "execution_count": 63,
   "metadata": {},
   "outputs": [],
   "source": [
    "def NumeroBinario(numero):\n",
    "    if numero <= 0:\n",
    "        return int(0)\n",
    "    # Aquí almacenamos el resultado\n",
    "    binario = \"\"\n",
    "    # Mientras se pueda dividir...\n",
    "    while numero > 0:\n",
    "        # Saber si es 1 o 0\n",
    "        residuo = int(numero % 2)\n",
    "        # E ir dividiendo el decimal\n",
    "        numero = int(numero / 2)\n",
    "        # Ir agregando el número (1 o 0) a la izquierda del resultado\n",
    "        binario = str(residuo) + binario\n",
    "    return int(binario)\n"
   ]
  },
  {
   "cell_type": "code",
   "execution_count": 68,
   "metadata": {},
   "outputs": [
    {
     "data": {
      "text/plain": [
       "1111"
      ]
     },
     "execution_count": 68,
     "metadata": {},
     "output_type": "execute_result"
    }
   ],
   "source": [
    "NumeroBinario(15)"
   ]
  },
  {
   "cell_type": "code",
   "execution_count": null,
   "metadata": {},
   "outputs": [],
   "source": [
    "def NumeroBinarioFracciones(numero):\n",
    "    if numero <= 0:\n",
    "        return float(0)\n",
    "    binario = \"\"\n",
    "    while numero > 0:\n",
    "        residuo = float(numero % 2)\n",
    "        numero = float(numero / 2)\n",
    "        binario = str(residuo) + binario\n",
    "    return float(binario)"
   ]
  },
  {
   "cell_type": "code",
   "execution_count": 78,
   "metadata": {},
   "outputs": [
    {
     "name": "stdout",
     "output_type": "stream",
     "text": [
      "101.1\n"
     ]
    }
   ],
   "source": [
    "def floatoctal_convert(my_number, places = 3):\n",
    "\tmy_whole, my_dec = str(my_number).split(\".\")\n",
    "\tmy_whole = int(my_whole)\n",
    "\tmy_dec = int (my_dec)\n",
    "\tres = bin(my_whole).lstrip(\"0b\") + \".\"\n",
    "\tfor x in range(places):\n",
    "\t\tmy_whole, my_dec = str((my_decimal_converter(my_dec)) * 2).split(\".\")\n",
    "\t\tmy_dec = int(my_dec)\n",
    "\t\tres += my_whole\n",
    "\treturn res\n",
    "def my_decimal_converter(num):\n",
    "\twhile num > 1:\n",
    "\t\tnum /= 10\n",
    "\treturn num\n",
    "\n",
    "# Driver Code\n",
    "n = input(\"Enter floating point value : \")\n",
    "p = int(input(\"Enter the number of decimal places of the result : \"))\n",
    "print(floatoctal_convert(n, places = p))"
   ]
  },
  {
   "cell_type": "code",
   "execution_count": 85,
   "metadata": {},
   "outputs": [
    {
     "name": "stdout",
     "output_type": "stream",
     "text": [
      "101.1\n"
     ]
    }
   ],
   "source": [
    "def NumeroBinarioFracciones(numero, lugares = 3):\n",
    "\tconjunto, decimal = str(numero).split(\".\")\n",
    "\tconjunto = int(conjunto)\n",
    "\tdecimal = int (decimal)\n",
    "\tres = bin(conjunto).lstrip(\"0b\") + \".\"\n",
    "\tfor x in range(lugares):\n",
    "\t\tconjunto, decimal = str((ConvertidorDecimal(decimal)) * 2).split(\".\")\n",
    "\t\tdecimal = int(decimal)\n",
    "\t\tres += conjunto\n",
    "\treturn res\n",
    "def ConvertidorDecimal(num):\n",
    "\twhile num > 1:\n",
    "\t\tnum /= 10\n",
    "\treturn num\n",
    "\n",
    "# Driver Code\n",
    "n = input(\"Ingresa el valor con float : \")\n",
    "p = int(input(\"Ingresa el numero de lugares despues del punto decimal: \"))\n",
    "print(NumeroBinarioFracciones(n, lugares = p))"
   ]
  },
  {
   "cell_type": "code",
   "execution_count": 71,
   "metadata": {},
   "outputs": [
    {
     "name": "stdout",
     "output_type": "stream",
     "text": [
      "The decimal fraction  0.5  is  0.1  in binary.\n"
     ]
    }
   ],
   "source": [
    "import math\n",
    "\n",
    "#enter decimal fraction and convert to integar\n",
    "decimal_frac = input(\"Enter the decimal fraction you would like to convert to binary: \")\n",
    "decimal_frac = float(decimal_frac)\n",
    "#print(decimal_frac)\n",
    "\n",
    "#define blank string\n",
    "binary_frac = \"0.\"\n",
    "\n",
    "#define number to multiply\n",
    "\n",
    "mult_num = decimal_frac\n",
    "\n",
    "for_range = 100\n",
    "\n",
    "#for loop to create number in a string format\n",
    "for i in range(for_range):\n",
    "  product = mult_num * 2\n",
    "  #print(product)\n",
    "  frac, whole = math.modf(product)\n",
    "  #print(frac)\n",
    "  #print(whole)\n",
    "  if product < 1:\n",
    "    binary_frac = binary_frac + \"0\"\n",
    "  if product >= 1:\n",
    "    binary_frac = binary_frac + \"1\"\n",
    "  #print(binary_frac)\n",
    "  mult_num = product\n",
    "  if frac == 0:\n",
    "    break\n",
    "\n",
    "#print(binary_frac)\n",
    "\n",
    "print(\"The decimal fraction \", decimal_frac, \" is \", binary_frac , \" in binary.\")"
   ]
  },
  {
   "cell_type": "code",
   "execution_count": 1,
   "metadata": {},
   "outputs": [],
   "source": [
    "def FraccionBinario(numero):\n",
    "    binario = []\n",
    "    while len(binario) <= 10:\n",
    "        numero *= 2\n",
    "        if numero == 1:\n",
    "            binario.append(1)\n",
    "            break\n",
    "        elif numero > 1:\n",
    "            binario.append(1)\n",
    "            numero -= 1\n",
    "        elif numero < 1:\n",
    "            binario.append(0)\n",
    "    bini = [str(i) for i in binario]\n",
    "    res = \"0.\" + \"\".join(bini)\n",
    "    return float(res)\n",
    "\n"
   ]
  },
  {
   "cell_type": "code",
   "execution_count": 4,
   "metadata": {},
   "outputs": [
    {
     "data": {
      "text/plain": [
       "0.11111111111"
      ]
     },
     "execution_count": 4,
     "metadata": {},
     "output_type": "execute_result"
    }
   ],
   "source": [
    "FraccionBinario(36.74)"
   ]
  }
 ],
 "metadata": {
  "kernelspec": {
   "display_name": "Python 3.10.7 64-bit",
   "language": "python",
   "name": "python3"
  },
  "language_info": {
   "codemirror_mode": {
    "name": "ipython",
    "version": 3
   },
   "file_extension": ".py",
   "mimetype": "text/x-python",
   "name": "python",
   "nbconvert_exporter": "python",
   "pygments_lexer": "ipython3",
   "version": "3.10.7"
  },
  "orig_nbformat": 4,
  "vscode": {
   "interpreter": {
    "hash": "0d8f62de8d159179b6c7667a4d5d4ef6210275a6b2f6b808206464195fd50fc9"
   }
  }
 },
 "nbformat": 4,
 "nbformat_minor": 2
}
