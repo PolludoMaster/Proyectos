{
 "cells": [
  {
   "cell_type": "markdown",
   "metadata": {},
   "source": [
    "1) Implementar un juego, que consista en apilar números enteros del 1 al 20, de forma aleatoria, para lo cual debe usarse una estructura de Pila. \n",
    "Luego, el usuario debe elegir un número de veces en que se va a quitar elementos de la pila, los cuales, sumados entre sí, no deben superar el valor de 50.\n",
    "El usuario pierde si la suma supera ese valor. Si no lo supera, gana, pero su calificación será 10 menos el número elementos que falten quitar para todavía no superar 50.\n",
    "El programa debe informar si perdió, y si ganó, con qué calificación lo hizo.\n",
    "\n",
    "Consideraciones:<br>\n",
    "a. Se puede usar la función input() para obtener una entrada de teclado.<br>\n",
    "b. Se puede usar la el modulo random para obtener valores aleatorios."
   ]
  },
  {
   "cell_type": "code",
   "execution_count": 193,
   "metadata": {},
   "outputs": [],
   "source": [
    "class Juego():\n",
    "    def __init__(self):\n",
    "        self\n",
    "\n",
    "    def generarnumeros(self):\n",
    "        import random\n",
    "        self.listarandom = [random.randint(1, 20) for i in range(20)]\n",
    "        return ('La lista es:' ,self.listarandom)\n",
    "\n",
    "    def sumatotal(self):\n",
    "        recibir = int(input('Cuantos valores deseas borrar\\n'))\n",
    "        self.i = 1\n",
    "        self.suma = 0\n",
    "        while (self.i <= recibir):\n",
    "            self.suma += self.listarandom.pop() \n",
    "            self.i+=1\n",
    "        return self.suma\n",
    "\n",
    "    def puntaje(self):\n",
    "        self.puntos = 10 \n",
    "        while (self.suma <= 50):\n",
    "            self.suma += self.listarandom.pop()\n",
    "            self.puntos = self.puntos - 1\n",
    "        if (self.suma > 50):\n",
    "            return (self.puntos + 1)\n",
    "        else: \n",
    "            return (self.puntos)"
   ]
  },
  {
   "cell_type": "code",
   "execution_count": 3,
   "metadata": {},
   "outputs": [],
   "source": [
    "class Juego():\n",
    "    def __init__(self):\n",
    "        self\n",
    "\n",
    "    def generarnumeros(self):\n",
    "        import random\n",
    "        self.listarandom = [random.randint(1, 20) for i in range(20)]\n",
    "        print ('La lista es:' ,self.listarandom)\n",
    "\n",
    "    def sumatotal(self, elemento):\n",
    "        self.n = 1\n",
    "        self.suma = 0\n",
    "        while (self.i <= elemento):\n",
    "            self.suma += self.listarandom.pop() \n",
    "            self.i+=1\n",
    "        return self.suma\n",
    "    \n",
    "    def puntaje(self,resultado):\n",
    "        self.puntos = 10 \n",
    "        self.sum_resultado = self.resultado\n",
    "        while (self.sum_resultado <= 50):\n",
    "            self.sum_resultado += self.listarandom.pop()\n",
    "            self.puntos = self.puntos - 1\n",
    "        if (self.sum_resultado > 50):\n",
    "            return (self.puntos + 1)\n",
    "        else: \n",
    "            return (self.puntos)\n",
    "\n",
    "    def jugar(self):\n",
    "        self.generarnumeros()\n",
    "        \n",
    "        print('Indique cantidad de elementos a sacar: ')\n",
    "        self.cantidad_elementos = int(input()) \n",
    "        \n",
    "        print('Se sacarán ',self.cantidad_elementos,' elementos')\n",
    "        \n",
    "        self.resultado = self.sumatotal(self.cantidad_elementos)\n",
    "        \n",
    "        if (self.resultado > 50):\n",
    "            print('Perdiste, tus números suman', self.resultado)\n",
    "        else:\n",
    "            print('Ganaste con un resultado de ',self.resultado, 'teniendo un puntaje de ',self.puntaje(self.resultado))"
   ]
  },
  {
   "cell_type": "code",
   "execution_count": 128,
   "metadata": {},
   "outputs": [
    {
     "name": "stdout",
     "output_type": "stream",
     "text": [
      "La lista es: [3, 17, 4, 13, 7, 14, 5, 11, 10, 12, 8, 2, 16, 4, 4, 4, 10, 2, 1, 10]\n",
      "[10, 1, 2, 10, 4]\n",
      "la suma es 27\n",
      "Ganaste\n"
     ]
    }
   ],
   "source": [
    "\n",
    "import random\n",
    "listarandom = [random.randint(1, 20) for i in range(20)]\n",
    "print ('La lista es:' ,listarandom)\n",
    "z = int(input(\"ingrese el valor por el que se quiera dividir \"))\n",
    "i=[]\n",
    "for n in range(z):\n",
    "    i.append(listarandom.pop())\n",
    "print(i)\n",
    "sum(i)\n",
    "puntaje = 0\n",
    "puntaje2= 10\n",
    "puntaje3 = puntaje2 - puntaje\n",
    "print('la suma es',(sum(i)))\n",
    "if len(listarandom) < sum(listarandom) < 50:\n",
    "    puntaje+1\n",
    "    print('puntaje es', puntaje3)\n",
    "if sum(i)<50:\n",
    "    print('Ganaste')\n",
    "else:\n",
    "    print('perdiste')"
   ]
  },
  {
   "cell_type": "code",
   "execution_count": 4,
   "metadata": {},
   "outputs": [
    {
     "name": "stdout",
     "output_type": "stream",
     "text": [
      "La lista es: [16, 19, 6, 2, 13, 3, 1, 4, 17, 3, 12, 16, 2, 1, 12, 17, 14, 7, 10, 5]\n",
      "Indique cantidad de elementos a sacar: \n",
      "Se sacarán  2  elementos\n",
      "Ganaste con un resultado de  15 teniendo un puntaje de  8\n"
     ]
    }
   ],
   "source": [
    "j=Juego()\n",
    "j.jugar()\n"
   ]
  },
  {
   "cell_type": "code",
   "execution_count": 191,
   "metadata": {},
   "outputs": [
    {
     "data": {
      "text/plain": [
       "36"
      ]
     },
     "execution_count": 191,
     "metadata": {},
     "output_type": "execute_result"
    }
   ],
   "source": [
    "j.sumatotal()"
   ]
  },
  {
   "cell_type": "code",
   "execution_count": 194,
   "metadata": {},
   "outputs": [
    {
     "data": {
      "text/plain": [
       "11"
      ]
     },
     "execution_count": 194,
     "metadata": {},
     "output_type": "execute_result"
    }
   ],
   "source": [
    "j.puntaje()"
   ]
  },
  {
   "cell_type": "code",
   "execution_count": 175,
   "metadata": {},
   "outputs": [],
   "source": [
    "def jugar(self): \n",
    "        self.generarnumeros()\n",
    "        recibir = int(input('Cuantos valores deseas borrar\\n'))\n",
    "        self.resultado = self.sumatotal(recibir)\n",
    "        if (self.suma > 50):\n",
    "            print('Perdiste, tus números suman', self.resultado)\n",
    "        else:\n",
    "            print('Ganaste con un resultado de ',self.resultado, 'teniendo un puntaje de ',self.puntaje(self.resultado))"
   ]
  },
  {
   "cell_type": "code",
   "execution_count": 173,
   "metadata": {},
   "outputs": [
    {
     "ename": "TypeError",
     "evalue": "Juego.puntaje() takes 1 positional argument but 2 were given",
     "output_type": "error",
     "traceback": [
      "\u001b[1;31m---------------------------------------------------------------------------\u001b[0m",
      "\u001b[1;31mTypeError\u001b[0m                                 Traceback (most recent call last)",
      "Cell \u001b[1;32mIn [173], line 2\u001b[0m\n\u001b[0;32m      1\u001b[0m j\u001b[39m=\u001b[39mJuego()\n\u001b[1;32m----> 2\u001b[0m j\u001b[39m.\u001b[39mjugar()\n",
      "Cell \u001b[1;32mIn [171], line 37\u001b[0m, in \u001b[0;36mJuego.jugar\u001b[1;34m(self)\u001b[0m\n\u001b[0;32m     35\u001b[0m     \u001b[39mprint\u001b[39m(\u001b[39m'\u001b[39m\u001b[39mPerdiste, tus números suman\u001b[39m\u001b[39m'\u001b[39m, \u001b[39mself\u001b[39m\u001b[39m.\u001b[39mresultado)\n\u001b[0;32m     36\u001b[0m \u001b[39melse\u001b[39;00m:\n\u001b[1;32m---> 37\u001b[0m     \u001b[39mprint\u001b[39m(\u001b[39m'\u001b[39m\u001b[39mGanaste con un resultado de \u001b[39m\u001b[39m'\u001b[39m,\u001b[39mself\u001b[39m\u001b[39m.\u001b[39mresultado, \u001b[39m'\u001b[39m\u001b[39mteniendo un puntaje de \u001b[39m\u001b[39m'\u001b[39m,\u001b[39mself\u001b[39;49m\u001b[39m.\u001b[39;49mpuntaje(\u001b[39mself\u001b[39;49m\u001b[39m.\u001b[39;49mresultado))\n",
      "\u001b[1;31mTypeError\u001b[0m: Juego.puntaje() takes 1 positional argument but 2 were given"
     ]
    }
   ],
   "source": [
    "j=Juego()\n",
    "j.jugar()\n"
   ]
  },
  {
   "cell_type": "markdown",
   "metadata": {},
   "source": [
    "2) Implementar un juego donde constas de 2 jarras, de capacidad 5 y 3 litros respectivamente, y debes colocar 4 litros en la jarra de 5L.\n",
    "Las opciones posibles son:\n",
    "* Llenar la jarra de 3 litros\n",
    "* Llenar la jarra de 5 litros\n",
    "* Vaciar la jarra de 3 litros\n",
    "* Vaciar la jarra de 5 litros\n",
    "* Verter el contenido de la jarra de 3 litros en la de 5 litros\n",
    "* Verter el contenido de la jarra de 5 litros en la de 3 litros"
   ]
  },
  {
   "cell_type": "markdown",
   "metadata": {},
   "source": [
    "2) Implementar un juego donde constas de 2 jarras, de capacidad 5 y 3 litros respectivamente, y debes colocar 4 litros en la jarra de 5L.\n",
    "Las opciones posibles son:\n",
    "* Llenar la jarra de 3 litros\n",
    "* Llenar la jarra de 5 litros\n",
    "* Vaciar la jarra de 3 litros\n",
    "* Vaciar la jarra de 5 litros\n",
    "* Verter el contenido de la jarra de 3 litros en la de 5 litros\n",
    "* Verter el contenido de la jarra de 5 litros en la de 3 litros"
   ]
  },
  {
   "cell_type": "code",
   "execution_count": 1,
   "metadata": {},
   "outputs": [],
   "source": [
    "class Estructura_Pila(object):\n",
    "    def __init__(self):\n",
    "        self.__list = []\n",
    "    # Agregar un elemento a la Pila\n",
    "    def push(self, item):\n",
    "        self.__list.append(item)\n",
    "        return 'Ha ingresado el elemento: ',item\n",
    "    # Quitar un elemento de la Pila ... PRESTEN ATENCIÓN\n",
    "    def pop(self):\n",
    "        return 'Se eliminó el elemento: ',self.__list.pop()\n",
    "    # Obtener el elemento superior de la Pila\n",
    "    def peek(self):\n",
    "        if self.__list:\n",
    "            return 'El ultimo elemento de la lista es: ', self.__list[-1]\n",
    "        else:\n",
    "            return 'No hay nada en la lista'\n",
    "    # Determinar si la Pila está vacía\n",
    "    def is_empty(self):\n",
    "        if self.__list == []:\n",
    "            return 'La lista está vacía'\n",
    "        else:\n",
    "            return 'La lista tiene los siguientes elementos', self.__list\n",
    "    # Devuelve el número de elementos de la lista:\n",
    "    def size(self):\n",
    "        longitud = len(self.__list)\n",
    "        return {f'La lista contiene: {longitud} elementos'}\n",
    "\n",
    "#if __name__ == '__main__':\n",
    "#    s = Estructura_Pila()\n",
    "#    s.push()"
   ]
  },
  {
   "cell_type": "code",
   "execution_count": 2,
   "metadata": {},
   "outputs": [
    {
     "name": "stdout",
     "output_type": "stream",
     "text": [
      "('Ha ingresado el elemento: ', 1)\n",
      "('Ha ingresado el elemento: ', 'Ejemplo N°1')\n",
      "('Ha ingresado el elemento: ', 'Ejemplo N°2')\n",
      "('Ha ingresado el elemento: ', 'Ejemplo N°3')\n",
      "('Ha ingresado el elemento: ', 2256)\n",
      "('Ha ingresado el elemento: ', 'Un numero')\n",
      "('Se eliminó el elemento: ', 'Un numero')\n",
      "('El ultimo elemento de la lista es: ', 2256)\n",
      "('La lista tiene los siguientes elementos', [1, 'Ejemplo N°1', 'Ejemplo N°2', 'Ejemplo N°3', 2256])\n",
      "{'La lista contiene: 5 elementos'}\n"
     ]
    }
   ],
   "source": [
    "s = Estructura_Pila()\n",
    "print(s.push(1))\n",
    "print(s.push(\"Ejemplo N°1\"))\n",
    "print(s.push(\"Ejemplo N°2\"))\n",
    "print(s.push(\"Ejemplo N°3\"))\n",
    "print(s.push(2256))\n",
    "print(s.push('Un numero'))\n",
    "print(s.pop())\n",
    "print(s.peek())\n",
    "print(s.is_empty())\n",
    "print(s.size())"
   ]
  },
  {
   "cell_type": "code",
   "execution_count": 3,
   "metadata": {},
   "outputs": [
    {
     "name": "stdout",
     "output_type": "stream",
     "text": [
      "('Se eliminó el elemento: ', 2256)\n",
      "('La lista tiene los siguientes elementos', [1, 'Ejemplo N°1', 'Ejemplo N°2', 'Ejemplo N°3'])\n"
     ]
    }
   ],
   "source": [
    "print(s.pop())\n",
    "print(s.is_empty())"
   ]
  }
 ],
 "metadata": {
  "kernelspec": {
   "display_name": "Python 3.10.7 64-bit",
   "language": "python",
   "name": "python3"
  },
  "language_info": {
   "codemirror_mode": {
    "name": "ipython",
    "version": 3
   },
   "file_extension": ".py",
   "mimetype": "text/x-python",
   "name": "python",
   "nbconvert_exporter": "python",
   "pygments_lexer": "ipython3",
   "version": "3.10.7"
  },
  "orig_nbformat": 4,
  "vscode": {
   "interpreter": {
    "hash": "0d8f62de8d159179b6c7667a4d5d4ef6210275a6b2f6b808206464195fd50fc9"
   }
  }
 },
 "nbformat": 4,
 "nbformat_minor": 2
}
