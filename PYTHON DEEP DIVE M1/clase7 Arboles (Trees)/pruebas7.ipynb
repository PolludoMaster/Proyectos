{
 "cells": [
  {
   "cell_type": "markdown",
   "metadata": {},
   "source": [
    "# Práctica Clase 7"
   ]
  },
  {
   "cell_type": "markdown",
   "metadata": {},
   "source": [
    "1) Diseñar una clase que permita trabajar con un árbol binario y que contenga los métodos:<br>\n",
    "    * insertaVal: para insertar un dato<br>\n",
    "    * buscaVal: que devuelva True o False si existe o no un dato<br>\n",
    "    * verVal: que imprima por pantalla los valores del árbol<br>\n",
    "\n",
    "Nota: Se puede utilizar la recursividad\n"
   ]
  },
  {
   "cell_type": "code",
   "execution_count": 185,
   "metadata": {},
   "outputs": [],
   "source": [
    "class Nodo():\n",
    "    def __init__(self, dato):\n",
    "        self.dato = dato\n",
    "        self.izq = None\n",
    "        self.der = None"
   ]
  },
  {
   "cell_type": "code",
   "execution_count": 186,
   "metadata": {},
   "outputs": [],
   "source": [
    "class Arbol:\n",
    "    def __init__(self, dato):\n",
    "        self.izq = None\n",
    "        self.der = None\n",
    "        if dato != None:\n",
    "            self.dato = dato\n",
    "        else:\n",
    "            self.dato = None\n",
    "\n",
    "    def insertVal(self, dato):\n",
    "        if self.dato:\n",
    "            if dato < self.dato:\n",
    "                if self.izq is None:\n",
    "                    self.izq = Arbol(dato)\n",
    "                else:\n",
    "                    self.izq.insertVal(dato)\n",
    "            elif dato > self.dato:\n",
    "                if self.der is None:\n",
    "                    self.der = Arbol(dato)\n",
    "                else:\n",
    "                    self.der.insertVal(dato)\n",
    "        else:\n",
    "            self.dato = dato\n",
    "\n",
    "    def buscaVal(self, val):\n",
    "        if val < self.dato:\n",
    "            if self.izq == None:\n",
    "                return False\n",
    "            return self.izq.buscaVal(val)\n",
    "        elif val > self.dato:\n",
    "            if self.der == None:\n",
    "                return False\n",
    "            return self.der.buscaVal(val)\n",
    "        else:\n",
    "            return True\n",
    "\n",
    "    def verVal(self):\n",
    "        if self.izq:\n",
    "            self.izq.verVal()\n",
    "        print(self.dato)\n",
    "        if self.der:\n",
    "            self.der.verVal()"
   ]
  },
  {
   "cell_type": "code",
   "execution_count": 187,
   "metadata": {},
   "outputs": [],
   "source": [
    "a = Arbol(1)"
   ]
  },
  {
   "cell_type": "code",
   "execution_count": 188,
   "metadata": {},
   "outputs": [],
   "source": [
    "a.insertVal(2)\n",
    "a.insertVal(6)\n",
    "a.insertVal(8)\n",
    "a.insertVal(10)\n",
    "a.insertVal(1)\n",
    "a.insertVal(19)"
   ]
  },
  {
   "cell_type": "code",
   "execution_count": 189,
   "metadata": {},
   "outputs": [
    {
     "data": {
      "text/plain": [
       "False"
      ]
     },
     "execution_count": 189,
     "metadata": {},
     "output_type": "execute_result"
    }
   ],
   "source": [
    "a.buscaVal(200)"
   ]
  },
  {
   "cell_type": "code",
   "execution_count": 190,
   "metadata": {},
   "outputs": [
    {
     "name": "stdout",
     "output_type": "stream",
     "text": [
      "1\n",
      "2\n",
      "6\n",
      "8\n",
      "10\n",
      "19\n"
     ]
    }
   ],
   "source": [
    "a.verVal()"
   ]
  }
 ],
 "metadata": {
  "kernelspec": {
   "display_name": "Python 3.10.7 64-bit",
   "language": "python",
   "name": "python3"
  },
  "language_info": {
   "codemirror_mode": {
    "name": "ipython",
    "version": 3
   },
   "file_extension": ".py",
   "mimetype": "text/x-python",
   "name": "python",
   "nbconvert_exporter": "python",
   "pygments_lexer": "ipython3",
   "version": "3.10.7"
  },
  "orig_nbformat": 4,
  "vscode": {
   "interpreter": {
    "hash": "0d8f62de8d159179b6c7667a4d5d4ef6210275a6b2f6b808206464195fd50fc9"
   }
  }
 },
 "nbformat": 4,
 "nbformat_minor": 2
}
