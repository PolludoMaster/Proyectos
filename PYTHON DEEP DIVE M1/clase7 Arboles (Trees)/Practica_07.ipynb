{
 "cells": [
  {
   "cell_type": "markdown",
   "metadata": {},
   "source": [
    "# Práctica Clase 7"
   ]
  },
  {
   "cell_type": "markdown",
   "metadata": {},
   "source": [
    "1) Diseñar una clase que permita trabajar con un árbol binario y que contenga los métodos:<br>\n",
    "    * insertaVal: para insertar un dato<br>\n",
    "    * buscaVal: que devuelva True o False si existe o no un dato<br>\n",
    "    * verVal: que imprima por pantalla los valores del árbol<br>\n",
    "\n",
    "Nota: Se puede utilizar la recursividad\n"
   ]
  },
  {
   "cell_type": "code",
   "execution_count": 3,
   "metadata": {},
   "outputs": [],
   "source": [
    "class Nodo():\n",
    "    def __init__(self, dato):\n",
    "        self.dato = dato\n",
    "        self.izq = None\n",
    "        self.der = None\n",
    "\n",
    "    def insertVal(self, dato):\n",
    "        if dato < self.dato:\n",
    "            if self.izq == None:\n",
    "                self.izq = Nodo(dato)\n",
    "            else:\n",
    "                self.izq.insertVal(dato)\n",
    "        elif dato > self.dato:\n",
    "            if self.der == None:\n",
    "                self.der = Nodo(dato)\n",
    "            else:\n",
    "                self.der.insertVal(dato)\n",
    "        else:\n",
    "            print(\"Valor repetido\")"
   ]
  },
  {
   "cell_type": "code",
   "execution_count": 5,
   "metadata": {},
   "outputs": [],
   "source": [
    "raiz = Nodo(4)\n",
    "raiz.insertVal(8)\n",
    "raiz.insertVal(21)\n"
   ]
  }
 ],
 "metadata": {
  "kernelspec": {
   "display_name": "Python 3.10.7 64-bit",
   "language": "python",
   "name": "python3"
  },
  "language_info": {
   "codemirror_mode": {
    "name": "ipython",
    "version": 3
   },
   "file_extension": ".py",
   "mimetype": "text/x-python",
   "name": "python",
   "nbconvert_exporter": "python",
   "pygments_lexer": "ipython3",
   "version": "3.10.7"
  },
  "vscode": {
   "interpreter": {
    "hash": "0d8f62de8d159179b6c7667a4d5d4ef6210275a6b2f6b808206464195fd50fc9"
   }
  }
 },
 "nbformat": 4,
 "nbformat_minor": 4
}
