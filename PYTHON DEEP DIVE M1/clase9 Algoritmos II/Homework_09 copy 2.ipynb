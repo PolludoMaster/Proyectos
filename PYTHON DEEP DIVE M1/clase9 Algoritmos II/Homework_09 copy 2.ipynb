{
 "cells": [
  {
   "cell_type": "markdown",
   "metadata": {},
   "source": [
    "# Práctica Clase 9"
   ]
  },
  {
   "cell_type": "markdown",
   "metadata": {},
   "source": [
    "<h2>Grafos</h2>\n",
    "<p>En la imagen se representa un grafo, para el cuál deberas hacer la representación en su matríz de adyacencia y utilizar la clase Grafos provista, para calcular la distancia de un vértice hacia todos los demás</p>\n",
    "<img src=\"grafos_ejemplo.jpg\" height=\"200px\">\n"
   ]
  },
  {
   "cell_type": "code",
   "execution_count": 48,
   "metadata": {},
   "outputs": [],
   "source": [
    "import sys\n",
    "\n",
    "class Graph():\n",
    "    def __init__(self, vertx):\n",
    "      self.V = vertx\n",
    "      self.graph = [[0 for column in range(vertx)]\n",
    "                      for row in range(vertx)]\n",
    "                      \n",
    "    def pSol(self, dist):\n",
    "        print(\"Distancia del vértice desde el orígen\")\n",
    "        for node in range(self.V):\n",
    "            print(node, \"t\", dist[node])\n",
    "\n",
    "    def minDistance(self, dist, sptSet):\n",
    "        min = sys.maxsize\n",
    "        for v in range(self.V):\n",
    "            if dist[v] < min and sptSet[v] == False:\n",
    "                min = dist[v]\n",
    "                min_index = v\n",
    "        return min_index\n",
    " \n",
    "    def dijk(self, source):\n",
    "        dist = [sys.maxsize] * self.V\n",
    "        dist[source] = 0\n",
    "        sptSet = [False] * self.V\n",
    "        for cout in range(self.V):\n",
    "            u = self.minDistance(dist, sptSet)\n",
    "            sptSet[u] = True\n",
    "            for v in range(self.V):\n",
    "                if ((self.graph[u][v] > 0) \n",
    "                    and (sptSet[v] == False) \n",
    "                    and (dist[v] > dist[u] + self.graph[u][v])):\n",
    "                    dist[v] = dist[u] + self.graph[u][v]\n",
    "        self.pSol(dist)"
   ]
  },
  {
   "cell_type": "code",
   "execution_count": 49,
   "metadata": {},
   "outputs": [
    {
     "data": {
      "text/plain": [
       "[[0, 0, 0, 0, 0],\n",
       " [0, 0, 0, 0, 0],\n",
       " [0, 0, 0, 0, 0],\n",
       " [0, 0, 0, 0, 0],\n",
       " [0, 0, 0, 0, 0]]"
      ]
     },
     "execution_count": 49,
     "metadata": {},
     "output_type": "execute_result"
    }
   ],
   "source": [
    "f = Graph(5)\n",
    "f.graph"
   ]
  },
  {
   "cell_type": "code",
   "execution_count": 50,
   "metadata": {},
   "outputs": [],
   "source": [
    "f.graph = [[0, 1, 0, 0, 0],\n",
    "           [1, 0, 2, 3, 0],\n",
    "           [0, 1, 0, 0, 0],\n",
    "           [0, 1, 0, 0, 1],\n",
    "           [0, 0, 0, 1, 0]]"
   ]
  },
  {
   "cell_type": "code",
   "execution_count": 51,
   "metadata": {},
   "outputs": [
    {
     "name": "stdout",
     "output_type": "stream",
     "text": [
      "Distancia del vértice desde el orígen\n",
      "0 t 0\n",
      "1 t 1\n",
      "2 t 3\n",
      "3 t 4\n",
      "4 t 5\n"
     ]
    }
   ],
   "source": [
    "f.dijk(0)"
   ]
  },
  {
   "cell_type": "code",
   "execution_count": 62,
   "metadata": {},
   "outputs": [
    {
     "ename": "TypeError",
     "evalue": "'int' object is not subscriptable",
     "output_type": "error",
     "traceback": [
      "\u001b[1;31m---------------------------------------------------------------------------\u001b[0m",
      "\u001b[1;31mTypeError\u001b[0m                                 Traceback (most recent call last)",
      "Cell \u001b[1;32mIn [62], line 1\u001b[0m\n\u001b[1;32m----> 1\u001b[0m f\u001b[39m.\u001b[39mminDistance(\u001b[39m0\u001b[39m,\u001b[39m1\u001b[39m)\n",
      "Cell \u001b[1;32mIn [48], line 17\u001b[0m, in \u001b[0;36mGraph.minDistance\u001b[1;34m(self, dist, sptSet)\u001b[0m\n\u001b[0;32m     15\u001b[0m \u001b[39mmin\u001b[39m \u001b[39m=\u001b[39m sys\u001b[39m.\u001b[39mmaxsize\n\u001b[0;32m     16\u001b[0m \u001b[39mfor\u001b[39;00m v \u001b[39min\u001b[39;00m \u001b[39mrange\u001b[39m(\u001b[39mself\u001b[39m\u001b[39m.\u001b[39mV):\n\u001b[1;32m---> 17\u001b[0m     \u001b[39mif\u001b[39;00m dist[v] \u001b[39m<\u001b[39m \u001b[39mmin\u001b[39m \u001b[39mand\u001b[39;00m sptSet[v] \u001b[39m==\u001b[39m \u001b[39mFalse\u001b[39;00m:\n\u001b[0;32m     18\u001b[0m         \u001b[39mmin\u001b[39m \u001b[39m=\u001b[39m dist[v]\n\u001b[0;32m     19\u001b[0m         min_index \u001b[39m=\u001b[39m v\n",
      "\u001b[1;31mTypeError\u001b[0m: 'int' object is not subscriptable"
     ]
    }
   ],
   "source": [
    "f.minDistance(0,1)"
   ]
  },
  {
   "cell_type": "code",
   "execution_count": 61,
   "metadata": {},
   "outputs": [
    {
     "name": "stdout",
     "output_type": "stream",
     "text": [
      "Distancia del vértice desde el orígen\n"
     ]
    },
    {
     "ename": "TypeError",
     "evalue": "'int' object is not subscriptable",
     "output_type": "error",
     "traceback": [
      "\u001b[1;31m---------------------------------------------------------------------------\u001b[0m",
      "\u001b[1;31mTypeError\u001b[0m                                 Traceback (most recent call last)",
      "Cell \u001b[1;32mIn [61], line 1\u001b[0m\n\u001b[1;32m----> 1\u001b[0m f\u001b[39m.\u001b[39mpSol(\u001b[39m1\u001b[39m)\n",
      "Cell \u001b[1;32mIn [48], line 12\u001b[0m, in \u001b[0;36mGraph.pSol\u001b[1;34m(self, dist)\u001b[0m\n\u001b[0;32m     10\u001b[0m \u001b[39mprint\u001b[39m(\u001b[39m\"\u001b[39m\u001b[39mDistancia del vértice desde el orígen\u001b[39m\u001b[39m\"\u001b[39m)\n\u001b[0;32m     11\u001b[0m \u001b[39mfor\u001b[39;00m node \u001b[39min\u001b[39;00m \u001b[39mrange\u001b[39m(\u001b[39mself\u001b[39m\u001b[39m.\u001b[39mV):\n\u001b[1;32m---> 12\u001b[0m     \u001b[39mprint\u001b[39m(node, \u001b[39m\"\u001b[39m\u001b[39mt\u001b[39m\u001b[39m\"\u001b[39m, dist[node])\n",
      "\u001b[1;31mTypeError\u001b[0m: 'int' object is not subscriptable"
     ]
    }
   ],
   "source": [
    "f.pSol(1)"
   ]
  }
 ],
 "metadata": {
  "kernelspec": {
   "display_name": "Python 3.10.7 64-bit",
   "language": "python",
   "name": "python3"
  },
  "language_info": {
   "codemirror_mode": {
    "name": "ipython",
    "version": 3
   },
   "file_extension": ".py",
   "mimetype": "text/x-python",
   "name": "python",
   "nbconvert_exporter": "python",
   "pygments_lexer": "ipython3",
   "version": "3.10.7"
  },
  "vscode": {
   "interpreter": {
    "hash": "0d8f62de8d159179b6c7667a4d5d4ef6210275a6b2f6b808206464195fd50fc9"
   }
  }
 },
 "nbformat": 4,
 "nbformat_minor": 4
}
