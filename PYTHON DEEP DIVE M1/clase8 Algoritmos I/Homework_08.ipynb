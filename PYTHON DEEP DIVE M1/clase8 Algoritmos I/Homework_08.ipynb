{
 "cells": [
  {
   "cell_type": "markdown",
   "metadata": {},
   "source": [
    "# Práctica Clase 8"
   ]
  },
  {
   "cell_type": "markdown",
   "metadata": {},
   "source": [
    "<h2>Algoritmos de Ordenamiento</h2>"
   ]
  },
  {
   "cell_type": "markdown",
   "metadata": {},
   "source": [
    "1) Dada la función provista 'ListaDesordenada' implementar los algoritmos de ordenamiento vistos en clase:\n",
    "<ul>\n",
    "    <ol>Selección</ol>\n",
    "    <ol>Burbuja</ol>\n",
    "</ul>"
   ]
  },
  {
   "cell_type": "code",
   "execution_count": 2,
   "metadata": {},
   "outputs": [],
   "source": [
    "def ListaDesordenada(desorden, cantidad): \n",
    "    '''\n",
    "    Esta función devuelve una lista\n",
    "    desorden = es un porcentaje de desordenamiento\n",
    "    cantidad = cantidad de elementos de la lista\n",
    "    '''\n",
    "    import random as r\n",
    "    import numpy as np\n",
    "\n",
    "    lista = list(range(0, cantidad))\n",
    "\n",
    "    desorden = int(cantidad * desorden / 100)\n",
    "\n",
    "    while (desorden > 0):\n",
    "        i = r.randint(0,cantidad-1)\n",
    "        j = r.randint(0,cantidad-1)\n",
    "        aux = lista[i]\n",
    "        lista[i] = lista[j]\n",
    "        lista[j] = aux\n",
    "        desorden-=1\n",
    "\n",
    "    return lista"
   ]
  },
  {
   "cell_type": "code",
   "execution_count": 14,
   "metadata": {},
   "outputs": [
    {
     "data": {
      "text/plain": [
       "[0, 6, 3, 1, 14, 5, 2, 11, 12, 15, 4, 7, 9, 19, 16, 17, 8, 13, 18, 10]"
      ]
     },
     "execution_count": 14,
     "metadata": {},
     "output_type": "execute_result"
    }
   ],
   "source": [
    "ListaDesordenada(90, 20) #Lista de 20 elementos un 90% desordenada"
   ]
  },
  {
   "cell_type": "code",
   "execution_count": 4,
   "metadata": {},
   "outputs": [
    {
     "data": {
      "text/plain": [
       "[17, 1, 2, 6, 4, 5, 19, 3, 8, 9, 10, 16, 7, 18, 12, 15, 11, 0, 14, 13]"
      ]
     },
     "execution_count": 4,
     "metadata": {},
     "output_type": "execute_result"
    }
   ],
   "source": [
    "ListaDesordenada(50, 20) #Lista de 20 elementos un 50% desordenada"
   ]
  },
  {
   "cell_type": "code",
   "execution_count": 5,
   "metadata": {},
   "outputs": [
    {
     "data": {
      "text/plain": [
       "[0, 1, 2, 3, 4, 5, 6, 7, 8, 9, 10, 11, 12, 13, 14, 15, 16, 17, 18, 19]"
      ]
     },
     "execution_count": 5,
     "metadata": {},
     "output_type": "execute_result"
    }
   ],
   "source": [
    "ListaDesordenada(0, 20) #Lista de 20 elementos un 0% desordenada"
   ]
  },
  {
   "cell_type": "code",
   "execution_count": 12,
   "metadata": {},
   "outputs": [],
   "source": [
    "def ord_por_seleccion(lista):\n",
    "    return lista"
   ]
  },
  {
   "cell_type": "code",
   "execution_count": 7,
   "metadata": {},
   "outputs": [
    {
     "name": "stdout",
     "output_type": "stream",
     "text": [
      "[1, 15, 2, 19, 4, 5, 9, 12, 18, 13, 10, 7, 11, 6, 16, 8, 14, 17, 3, 0]\n"
     ]
    }
   ],
   "source": [
    "lis = ListaDesordenada(100, 20)\n",
    "print(lis)"
   ]
  },
  {
   "cell_type": "code",
   "execution_count": 8,
   "metadata": {},
   "outputs": [
    {
     "ename": "NameError",
     "evalue": "name 'orden_seleccion' is not defined",
     "output_type": "error",
     "traceback": [
      "\u001b[1;31m---------------------------------------------------------------------------\u001b[0m",
      "\u001b[1;31mNameError\u001b[0m                                 Traceback (most recent call last)",
      "Cell \u001b[1;32mIn [8], line 1\u001b[0m\n\u001b[1;32m----> 1\u001b[0m orden_seleccion(lis)\n",
      "\u001b[1;31mNameError\u001b[0m: name 'orden_seleccion' is not defined"
     ]
    }
   ],
   "source": [
    "orden_seleccion(lis)"
   ]
  },
  {
   "cell_type": "code",
   "execution_count": 15,
   "metadata": {},
   "outputs": [
    {
     "data": {
      "text/plain": [
       "[0, 1, 2, 3, 4, 5, 6, 7, 8, 9, 10, 11, 12, 13, 14, 15, 16, 17, 18, 19]"
      ]
     },
     "execution_count": 15,
     "metadata": {},
     "output_type": "execute_result"
    }
   ],
   "source": [
    "ord_por_seleccion(lis)"
   ]
  },
  {
   "cell_type": "code",
   "execution_count": null,
   "metadata": {},
   "outputs": [],
   "source": [
    "def ord_por_burbujeo(lista):\n",
    "    #completar el código\n",
    "    return lista"
   ]
  },
  {
   "cell_type": "code",
   "execution_count": null,
   "metadata": {},
   "outputs": [],
   "source": [
    "lis = ListaDesordenada(100, 20)\n",
    "print(lis)"
   ]
  },
  {
   "cell_type": "code",
   "execution_count": null,
   "metadata": {},
   "outputs": [],
   "source": [
    "ord_por_burbujeo(lis)"
   ]
  },
  {
   "cell_type": "markdown",
   "metadata": {},
   "source": [
    "2) Para las siguientes instancias, probar el tiempo de duración del ordenamiento de cada uno de los métodos"
   ]
  },
  {
   "cell_type": "code",
   "execution_count": null,
   "metadata": {},
   "outputs": [],
   "source": [
    "import time"
   ]
  },
  {
   "cell_type": "code",
   "execution_count": null,
   "metadata": {},
   "outputs": [],
   "source": [
    "start_time_total = time.time()\n",
    "total_time_total = time.time() - start_time_total\n",
    "print(\"Llevo {} segundos en total.\".format(total_time_total))"
   ]
  },
  {
   "cell_type": "code",
   "execution_count": null,
   "metadata": {},
   "outputs": [],
   "source": [
    "N = 50000"
   ]
  },
  {
   "cell_type": "code",
   "execution_count": null,
   "metadata": {},
   "outputs": [],
   "source": [
    "lis1 = ListaDesordenada(100, N)\n",
    "lis2 = lis1.copy()\n",
    "lis3 = lis1.copy()"
   ]
  },
  {
   "cell_type": "code",
   "execution_count": null,
   "metadata": {},
   "outputs": [],
   "source": [
    "id(lis1)"
   ]
  },
  {
   "cell_type": "code",
   "execution_count": null,
   "metadata": {},
   "outputs": [],
   "source": [
    "id(lis2)"
   ]
  },
  {
   "cell_type": "code",
   "execution_count": null,
   "metadata": {},
   "outputs": [],
   "source": [
    "id(lis3)"
   ]
  },
  {
   "cell_type": "code",
   "execution_count": null,
   "metadata": {},
   "outputs": [],
   "source": [
    "start_time_total = time.time()\n",
    "lis1 = ord_por_burbujeo(lis1)\n",
    "total_time_total = time.time() - start_time_total\n",
    "print(\"Llevo {} segundos en total.\".format(total_time_total))"
   ]
  },
  {
   "cell_type": "code",
   "execution_count": null,
   "metadata": {},
   "outputs": [],
   "source": [
    "start_time_total = time.time()\n",
    "lis2 = ord_por_seleccion(lis2)\n",
    "total_time_total = time.time() - start_time_total\n",
    "print(\"Llevo {} segundos en total.\".format(total_time_total))"
   ]
  },
  {
   "cell_type": "code",
   "execution_count": null,
   "metadata": {},
   "outputs": [],
   "source": [
    "start_time_total = time.time()\n",
    "lis2 = orden_seleccion(lis3)\n",
    "total_time_total = time.time() - start_time_total\n",
    "print(\"Llevo {} segundos en total.\".format(total_time_total))"
   ]
  },
  {
   "cell_type": "code",
   "execution_count": null,
   "metadata": {},
   "outputs": [],
   "source": [
    "lis1 = ListaDesordenada(50, N)\n",
    "lis2 = lis1.copy()\n",
    "lis3 = lis1.copy()"
   ]
  },
  {
   "cell_type": "code",
   "execution_count": null,
   "metadata": {},
   "outputs": [],
   "source": [
    "start_time_total = time.time()\n",
    "lis1 = ord_por_burbujeo(lis1)\n",
    "total_time_total = time.time() - start_time_total\n",
    "print(\"Llevo {} segundos en total.\".format(total_time_total))"
   ]
  },
  {
   "cell_type": "code",
   "execution_count": null,
   "metadata": {},
   "outputs": [],
   "source": [
    "start_time_total = time.time()\n",
    "lis2 = ord_por_seleccion(lis2)\n",
    "total_time_total = time.time() - start_time_total\n",
    "print(\"Llevo {} segundos en total.\".format(total_time_total))"
   ]
  },
  {
   "cell_type": "code",
   "execution_count": null,
   "metadata": {},
   "outputs": [],
   "source": [
    "start_time_total = time.time()\n",
    "lis3 = orden_seleccion(lis3)\n",
    "total_time_total = time.time() - start_time_total\n",
    "print(\"Llevo {} segundos en total.\".format(total_time_total))"
   ]
  },
  {
   "cell_type": "code",
   "execution_count": null,
   "metadata": {},
   "outputs": [],
   "source": [
    "lis1 = ord_por_burbujeo(lis1)"
   ]
  },
  {
   "cell_type": "code",
   "execution_count": null,
   "metadata": {},
   "outputs": [],
   "source": [
    "lis1.sort()"
   ]
  },
  {
   "cell_type": "code",
   "execution_count": null,
   "metadata": {},
   "outputs": [],
   "source": [
    "lis1[0:12]"
   ]
  },
  {
   "cell_type": "code",
   "execution_count": null,
   "metadata": {},
   "outputs": [],
   "source": [
    "lis1 = ListaDesordenada(0, N)\n",
    "lis2 = lis1.copy()\n",
    "lis3 = lis1.copy()"
   ]
  },
  {
   "cell_type": "code",
   "execution_count": null,
   "metadata": {},
   "outputs": [],
   "source": [
    "start_time_total = time.time()\n",
    "lis1 = ord_por_burbujeo(lis1)\n",
    "total_time_total = time.time() - start_time_total\n",
    "print(\"Llevo {} segundos en total.\".format(total_time_total))"
   ]
  },
  {
   "cell_type": "code",
   "execution_count": null,
   "metadata": {},
   "outputs": [],
   "source": [
    "start_time_total = time.time()\n",
    "lis2 = ord_por_seleccion(lis2)\n",
    "total_time_total = time.time() - start_time_total\n",
    "print(\"Llevo {} segundos en total.\".format(total_time_total))"
   ]
  },
  {
   "cell_type": "code",
   "execution_count": null,
   "metadata": {},
   "outputs": [],
   "source": [
    "start_time_total = time.time()\n",
    "lis2 = orden_seleccion(lis3)\n",
    "total_time_total = time.time() - start_time_total\n",
    "print(\"Llevo {} segundos en total.\".format(total_time_total))"
   ]
  }
 ],
 "metadata": {
  "kernelspec": {
   "display_name": "Python 3.10.7 64-bit",
   "language": "python",
   "name": "python3"
  },
  "language_info": {
   "codemirror_mode": {
    "name": "ipython",
    "version": 3
   },
   "file_extension": ".py",
   "mimetype": "text/x-python",
   "name": "python",
   "nbconvert_exporter": "python",
   "pygments_lexer": "ipython3",
   "version": "3.10.7"
  },
  "vscode": {
   "interpreter": {
    "hash": "0d8f62de8d159179b6c7667a4d5d4ef6210275a6b2f6b808206464195fd50fc9"
   }
  }
 },
 "nbformat": 4,
 "nbformat_minor": 4
}
